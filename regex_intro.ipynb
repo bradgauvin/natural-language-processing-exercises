{
 "cells": [
  {
   "cell_type": "markdown",
   "id": "01776f44",
   "metadata": {},
   "source": [
    "NLP - Natural Language Processing\n",
    "Anticipate a group project\n",
    "\n",
    "\"Natural Language\" = human language\n",
    "- syntax can be very fluid\n",
    "- lots of meaning through context\n",
    "\n",
    "\"Formal Language\"\n",
    "- a formal language is a grammer/syntax\n",
    "- it's a language that's very rigid\n",
    "- formal language is so rigid, that it's predicable.\n",
    "- Examples:\n",
    "    - math notation\n",
    "    - chemistry notation\n",
    "    - musical notation\n",
    "    - logical notation\n",
    "    - programming languages\n",
    "        - Python\n",
    "        - SQL\n",
    "        - C, C#, C++, Objective C\n",
    "        - ANY programming language\n",
    "\n",
    "\n",
    "- NLP is bringing our programming and algorithmic chops to bear on understanding natural language\n",
    "- NLP is an entire branch of CS/DS, it's not one or two algorithms\n",
    "\n",
    "Examples of NLP project/tool/thing:\n",
    "- Siri, google assitant\n",
    "- voice to text (machine listening)\n",
    "- language translation tools (from Spanish to French..)\n",
    "- text to voice \n",
    "- automated helpdesk - Interactive Voice Response\n",
    "- autocorrect and text prediction\n",
    "- virtual chatbots (text responses/generation)\n",
    "- web scraping bots \n",
    "- search engines\n",
    "- regular language to regular expression tool\n",
    "- hashtag, topic search #running but you search for #run and you see the thread b/c they share a root\n",
    "- email filters - searching\n",
    "- spam detection\n",
    "- accessibility tools for hearing/sight impairment\n",
    "- sentiment analysis (what's the tone of a document, is this a document of facts or opinions or positive/negative)\n",
    "- topic modeling (unsupervised algorithm, trying to figure out what a document is all about)\n",
    "- parts of speech tagging\n",
    "- text normalization (removing as much variance from text without losing too much meaning - lowercasing everything)\n",
    "\n",
    "## Topics we'll cover\n",
    "- Regular expressions (kinda like a word/letter algebra for searching/replacing/filtering)\n",
    "- Web scraping\n",
    "- We'll do some exploration (this could be its own 6 month course)\n",
    "- classification modeling \n",
    "- NLP project is classifying the programming language of a repo off of GitHub based only on that repo's README file.\n",
    "\n",
    "## End Goal for y'all w/ this module\n",
    "1. Enough regex to be dangerous (regex is a tool for your toolbox)\n",
    "2. Enough web scraping and html parsing to be useful (to build your own datasets)\n",
    "3. Modeling goal is to build your own dataset and perform classification on that labeled dataset"
   ]
  },
  {
   "cell_type": "markdown",
   "id": "9283fa46",
   "metadata": {},
   "source": [
    "# Meet Regular Expressions\n",
    "\n",
    "## What?\n",
    "- Regular expressions (called regexes or regex patterns) are a tiny language for dealing with text and character patterns.\n",
    "- With RegEx patterns we can:\n",
    "    - Does this string match a pattern?\n",
    "    - Is there a match for the pattern anywhere in the string?\n",
    "    - Modify + split strings in various ways\n",
    "    \n",
    "re library functions\n",
    "- `re.search` scans through a string, looking for any location where the RE matches.\n",
    "- `re.findall` Finds all substrings where the RE matches; returns a list.\n",
    "- `re.split` splits a string on a given regex pattern, removing that pattern. The result is a list of a strings.\n",
    "- `re.sub` allows us to match a regex and substitute in a new substring for the match.\n",
    "\n",
    "\n",
    "## So What?\n",
    "- Power + precision\n",
    "    - Cost is learning something new and potentially unfamiliar.\n",
    "    - Payoff is a language that works with any other programming language to operate on text and character patterns.\n",
    "- Regular Expressions are cross platform and available in many programming languages and environments:\n",
    "    - Command line tools (Linux, Windows, Mac, etc...)\n",
    "    - Python\n",
    "    - SQL flavors offer RegEx\n",
    "    - Java (Scala/Clojure)\n",
    "    - Other languages like Julia, Ruby, PHP, C#, etc...\n",
    "    - Like SQL, there are differences between some of the different RegEx implementations, but if you know your RegEx, you can bring value in many environments.\n",
    "\n",
    "## When is RegEx the right tool or wrong tool?\n",
    "- If you can solve the problem with built-in string methods in your language, do so.\n",
    "- If you need more capability than built-in string methods\n",
    "- If you're parsing HTML, JSON, or XML, use a tool built for those formats. Regex + html/json = don't\n",
    "\n",
    "## Now What?\n",
    "- We'll start simple by writing regex patterns to match literal characters.\n",
    "- Then we will introduce metacharacters, that have special meaning and functionality.\n",
    "\n",
    "## Key Concepts\n",
    "- The RegEx metacharacters `. ^ $ * + ? { } [ ] \\ | ( )` have special meanings. \n",
    "- Square brackets create a \"character class\". \n",
    "    - Character classes allow us to specify many OR operations\n",
    "    - For example, `r\"[aeiou]\"` matches any lowercase vowel character. Identical to `r\"a|e|i|o|u\"`\n",
    "    - `r\"[a-z]\"` matches lowercase a through z.\n",
    "- Metacharacters are not active inside of the character class square brackets `[]`\n",
    "- Outside of the character class `[]`, if you need to match a metacharacter character literally, you will need to put a `\\` in front of that character. `r\"\\+\"` will match the literal `+` character.\n",
    "- RegEx has characters for special sequences:\n",
    "    - `.` matches any character\n",
    "    - `\\d` matches any numeral. Is equivalent to `[0-9]`\n",
    "    - `\\D` matches any non-digit character and is equivalent to `[^0-9]`. \n",
    "    - `\\s` matches any white space like ` `, tab, soft return, new line etc...\n",
    "    - `\\w` matches any alphanumeric character and underscore. Equivalent to `[0-9a-zA-Z_]`\n",
    "    - `\\W` matches any non-alphanumeric character. Equivalent to `[^a-zA-Z0-9_]`\n",
    "- `.` Matches any character\n",
    "- Repetition:\n",
    "    - `*` matches zero or more of the previous pattern\n",
    "    - `+` matches 1 or more of the previous pattern\n",
    "- `?` after a pattern means that pattern is optional\n",
    "- Not - `[^abc]` matches anything but \"a\" or \"b\" or \"c\"\n",
    "- Anchors\n",
    "    - `^` start\n",
    "    - `$` end\n",
    "    - `\\b` word boundary\n",
    "- Groups\n",
    "    - `(a)`\n",
    "\n",
    "## How Deep Does RegEx go?\n",
    "- For challenging strings to match, like email addresses, recommend using pre-built RegEx specifications like  the HTML specification at https://html.spec.whatwg.org/multipage/forms.html#valid-e-mail-address\n",
    "- With known, good, and proven RegEx patterns like these, you don't need to reinvent things.\n",
    "- ```r\"^[a-zA-Z0-9.!#$%&'*+/=?^_`{|}~-]+@[a-zA-Z0-9](?:[a-zA-Z0-9-]{0,61}[a-zA-Z0-9])?(?:\\.[a-zA-Z0-9](?:[a-zA-Z0-9-]{0,61}[a-zA-Z0-9])?)*$\"```\n"
   ]
  },
  {
   "cell_type": "markdown",
   "id": "09e3f17a",
   "metadata": {},
   "source": [
    "Python Doc [link](https://docs.python.org/3/library/re.html \"regex link\")"
   ]
  },
  {
   "cell_type": "code",
   "execution_count": 1,
   "id": "fdb0df63",
   "metadata": {
    "ExecuteTime": {
     "end_time": "2022-08-29T16:57:52.030131Z",
     "start_time": "2022-08-29T16:57:51.687959Z"
    }
   },
   "outputs": [],
   "source": [
    "import re\n",
    "import pandas as pd"
   ]
  },
  {
   "cell_type": "markdown",
   "id": "935082af",
   "metadata": {},
   "source": [
    "### Patterns to Match Literals \n",
    "> Crawl before you walk"
   ]
  },
  {
   "cell_type": "code",
   "execution_count": 2,
   "id": "f795d9a2",
   "metadata": {
    "ExecuteTime": {
     "end_time": "2022-08-29T16:57:52.036905Z",
     "start_time": "2022-08-29T16:57:52.031148Z"
    },
    "scrolled": true
   },
   "outputs": [
    {
     "data": {
      "text/plain": [
       "'Two households, both alike in dignity, In fair Verona, where we lay our scene, From ancient grudge break to new mutiny, Where civil blood makes civil hands unclean.'"
      ]
     },
     "execution_count": 2,
     "metadata": {},
     "output_type": "execute_result"
    }
   ],
   "source": [
    "string = \"Two households, both alike in dignity, In fair Verona, where we lay our scene, From ancient grudge break to new mutiny, Where civil blood makes civil hands unclean.\"\n",
    "string"
   ]
  },
  {
   "cell_type": "code",
   "execution_count": 3,
   "id": "ddfcd68e",
   "metadata": {
    "ExecuteTime": {
     "end_time": "2022-08-29T16:57:52.041607Z",
     "start_time": "2022-08-29T16:57:52.038383Z"
    }
   },
   "outputs": [
    {
     "data": {
      "text/plain": [
       "<re.Match object; span=(47, 53), match='Verona'>"
      ]
     },
     "execution_count": 3,
     "metadata": {},
     "output_type": "execute_result"
    }
   ],
   "source": [
    "# We can search for a literal match of the string Verona\n",
    "# re.search(r\"pattern\", \"our subject\")\n",
    "x = re.search(r\"Verona\", string)\n",
    "x"
   ]
  },
  {
   "cell_type": "code",
   "execution_count": 4,
   "id": "34c0736d",
   "metadata": {
    "ExecuteTime": {
     "end_time": "2022-08-29T16:57:52.047174Z",
     "start_time": "2022-08-29T16:57:52.044656Z"
    }
   },
   "outputs": [
    {
     "data": {
      "text/plain": [
       "'Verona'"
      ]
     },
     "execution_count": 4,
     "metadata": {},
     "output_type": "execute_result"
    }
   ],
   "source": [
    "# the span returned is the index. \n",
    "# Consider if we were to splice the string using the span bounds\n",
    "string[47:53]"
   ]
  },
  {
   "cell_type": "code",
   "execution_count": 5,
   "id": "755f59ae",
   "metadata": {
    "ExecuteTime": {
     "end_time": "2022-08-29T16:57:52.054445Z",
     "start_time": "2022-08-29T16:57:52.049577Z"
    }
   },
   "outputs": [
    {
     "data": {
      "text/plain": [
       "<re.Match object; span=(39, 53), match='In fair Verona'>"
      ]
     },
     "execution_count": 5,
     "metadata": {},
     "output_type": "execute_result"
    }
   ],
   "source": [
    "re.search(r\"In fair Verona\", string)"
   ]
  },
  {
   "cell_type": "code",
   "execution_count": 6,
   "id": "cfe97a67",
   "metadata": {
    "ExecuteTime": {
     "end_time": "2022-08-29T16:57:52.057877Z",
     "start_time": "2022-08-29T16:57:52.055418Z"
    }
   },
   "outputs": [],
   "source": [
    "# The string \"Leonardo DiCaprio\" is not here, so re.search returns None\n",
    "re.search(r\"Leonardo DiCaprio\", string)"
   ]
  },
  {
   "cell_type": "code",
   "execution_count": 7,
   "id": "8ccd03c4",
   "metadata": {
    "ExecuteTime": {
     "end_time": "2022-08-29T16:57:52.063117Z",
     "start_time": "2022-08-29T16:57:52.059729Z"
    }
   },
   "outputs": [
    {
     "data": {
      "text/plain": [
       "<re.Match object; span=(126, 131), match='civil'>"
      ]
     },
     "execution_count": 7,
     "metadata": {},
     "output_type": "execute_result"
    }
   ],
   "source": [
    "# re.search returns the first match\n",
    "re.search(r\"civil\", string)"
   ]
  },
  {
   "cell_type": "code",
   "execution_count": 8,
   "id": "80942b16",
   "metadata": {
    "ExecuteTime": {
     "end_time": "2022-08-29T16:57:52.067556Z",
     "start_time": "2022-08-29T16:57:52.064166Z"
    }
   },
   "outputs": [
    {
     "data": {
      "text/plain": [
       "['civil', 'civil']"
      ]
     },
     "execution_count": 8,
     "metadata": {},
     "output_type": "execute_result"
    }
   ],
   "source": [
    "# .findall returns all matches\n",
    "re.findall(r\"civil\", string)"
   ]
  },
  {
   "cell_type": "code",
   "execution_count": 9,
   "id": "4f81eb50",
   "metadata": {
    "ExecuteTime": {
     "end_time": "2022-08-29T16:57:52.074320Z",
     "start_time": "2022-08-29T16:57:52.070066Z"
    }
   },
   "outputs": [
    {
     "data": {
      "text/plain": [
       "[]"
      ]
     },
     "execution_count": 9,
     "metadata": {},
     "output_type": "execute_result"
    }
   ],
   "source": [
    "# empty set for no matches with .findall\n",
    "re.findall(r\"Claire Danes\", string)"
   ]
  },
  {
   "cell_type": "code",
   "execution_count": 10,
   "id": "672c8b72",
   "metadata": {
    "ExecuteTime": {
     "end_time": "2022-08-29T16:57:52.085442Z",
     "start_time": "2022-08-29T16:57:52.077968Z"
    }
   },
   "outputs": [
    {
     "data": {
      "text/plain": [
       "<re.Match object; span=(0, 3), match='Two'>"
      ]
     },
     "execution_count": 10,
     "metadata": {},
     "output_type": "execute_result"
    }
   ],
   "source": [
    "re.search(r\"Two\", string)"
   ]
  },
  {
   "cell_type": "code",
   "execution_count": 11,
   "id": "d6e9c4f4",
   "metadata": {
    "ExecuteTime": {
     "end_time": "2022-08-29T16:57:52.089629Z",
     "start_time": "2022-08-29T16:57:52.086527Z"
    }
   },
   "outputs": [],
   "source": [
    "# Are computers particular on specifics?\n",
    "re.search(r\"two\", string)"
   ]
  },
  {
   "cell_type": "code",
   "execution_count": 12,
   "id": "a58afdde",
   "metadata": {
    "ExecuteTime": {
     "end_time": "2022-08-29T16:57:52.093966Z",
     "start_time": "2022-08-29T16:57:52.090932Z"
    }
   },
   "outputs": [
    {
     "data": {
      "text/plain": [
       "<re.Match object; span=(0, 3), match='Two'>"
      ]
     },
     "execution_count": 12,
     "metadata": {},
     "output_type": "execute_result"
    }
   ],
   "source": [
    "# The re.IGNORECASE flag does exactly that\n",
    "#re.search(regex, subject, flag)\n",
    "re.search(r\"two\", string, re.IGNORECASE)"
   ]
  },
  {
   "cell_type": "code",
   "execution_count": 13,
   "id": "7eac3e7e",
   "metadata": {
    "ExecuteTime": {
     "end_time": "2022-08-29T16:57:52.097867Z",
     "start_time": "2022-08-29T16:57:52.094979Z"
    }
   },
   "outputs": [
    {
     "data": {
      "text/plain": [
       "<re.Match object; span=(0, 1), match='a'>"
      ]
     },
     "execution_count": 13,
     "metadata": {},
     "output_type": "execute_result"
    }
   ],
   "source": [
    "re.search(r\"A\", \"aaaaaa\", re.IGNORECASE)"
   ]
  },
  {
   "cell_type": "code",
   "execution_count": 14,
   "id": "223f3e2c",
   "metadata": {
    "ExecuteTime": {
     "end_time": "2022-08-29T16:57:52.102057Z",
     "start_time": "2022-08-29T16:57:52.098754Z"
    }
   },
   "outputs": [
    {
     "data": {
      "text/plain": [
       "<re.Match object; span=(0, 5), match='aaaaa'>"
      ]
     },
     "execution_count": 14,
     "metadata": {},
     "output_type": "execute_result"
    }
   ],
   "source": [
    "re.search(r\"Aaaaa\", \"aaaaaa\", re.IGNORECASE)"
   ]
  },
  {
   "cell_type": "code",
   "execution_count": 15,
   "id": "02d9b6d4",
   "metadata": {
    "ExecuteTime": {
     "end_time": "2022-08-29T16:57:52.107196Z",
     "start_time": "2022-08-29T16:57:52.102921Z"
    }
   },
   "outputs": [
    {
     "data": {
      "text/plain": [
       "<re.Match object; span=(0, 1), match='t'>"
      ]
     },
     "execution_count": 15,
     "metadata": {},
     "output_type": "execute_result"
    }
   ],
   "source": [
    "# '.' in regex matches ANY character, notice we're matching the first character\n",
    "re.search(r\".\", \"this is this. This is that.\")"
   ]
  },
  {
   "cell_type": "code",
   "execution_count": 16,
   "id": "cfbc4cf6",
   "metadata": {
    "ExecuteTime": {
     "end_time": "2022-08-29T16:57:52.110563Z",
     "start_time": "2022-08-29T16:57:52.107981Z"
    }
   },
   "outputs": [
    {
     "data": {
      "text/plain": [
       "<re.Match object; span=(12, 13), match='.'>"
      ]
     },
     "execution_count": 16,
     "metadata": {},
     "output_type": "execute_result"
    }
   ],
   "source": [
    "# To 'escape' the normal behavior of period, we put a \\ in front of it\n",
    "re.search(r\"\\.\", \"this is this. this is that.\")"
   ]
  },
  {
   "cell_type": "markdown",
   "id": "857d51d1",
   "metadata": {},
   "source": [
    "## Using `|` for a logical OR to open opportunities\n",
    "- We can use `|` with literal characters or other regular expression patterns"
   ]
  },
  {
   "cell_type": "code",
   "execution_count": 17,
   "id": "971d7d94",
   "metadata": {
    "ExecuteTime": {
     "end_time": "2022-08-29T16:57:52.114736Z",
     "start_time": "2022-08-29T16:57:52.111531Z"
    }
   },
   "outputs": [
    {
     "data": {
      "text/plain": [
       "['grey', 'gray', 'gray', 'grey']"
      ]
     },
     "execution_count": 17,
     "metadata": {},
     "output_type": "execute_result"
    }
   ],
   "source": [
    "# OR\n",
    "# Findall returns all matches \n",
    "re.findall(r\"gray|grey\", \"I can't remember if you spell grey gray or gray like grey!\")"
   ]
  },
  {
   "cell_type": "code",
   "execution_count": 18,
   "id": "47b73648",
   "metadata": {
    "ExecuteTime": {
     "end_time": "2022-08-29T16:57:52.117687Z",
     "start_time": "2022-08-29T16:57:52.115707Z"
    }
   },
   "outputs": [
    {
     "data": {
      "text/plain": [
       "<re.Match object; span=(12, 17), match='apple'>"
      ]
     },
     "execution_count": 18,
     "metadata": {},
     "output_type": "execute_result"
    }
   ],
   "source": [
    "# The .search method matches only the first match\n",
    "x = re.search(r\"orange|apple\", \"I like both apples and oranges\")\n",
    "x"
   ]
  },
  {
   "cell_type": "code",
   "execution_count": 19,
   "id": "19dc9e16",
   "metadata": {
    "ExecuteTime": {
     "end_time": "2022-08-29T16:57:52.121211Z",
     "start_time": "2022-08-29T16:57:52.118478Z"
    }
   },
   "outputs": [
    {
     "data": {
      "text/plain": [
       "['this', 'that']"
      ]
     },
     "execution_count": 19,
     "metadata": {},
     "output_type": "execute_result"
    }
   ],
   "source": [
    "re.findall(r\"this|that\", \"this that and the other\")"
   ]
  },
  {
   "cell_type": "code",
   "execution_count": 20,
   "id": "a33c092c",
   "metadata": {
    "ExecuteTime": {
     "end_time": "2022-08-29T16:57:52.126457Z",
     "start_time": "2022-08-29T16:57:52.121990Z"
    }
   },
   "outputs": [
    {
     "data": {
      "text/plain": [
       "<re.Match object; span=(1, 2), match='a'>"
      ]
     },
     "execution_count": 20,
     "metadata": {},
     "output_type": "execute_result"
    }
   ],
   "source": [
    "# has a vowel, anywhere\n",
    "re.search(r\"a|e|i|o|u\", \"banana\", re.IGNORECASE)"
   ]
  },
  {
   "cell_type": "code",
   "execution_count": 21,
   "id": "120b4858",
   "metadata": {
    "ExecuteTime": {
     "end_time": "2022-08-29T16:57:52.130772Z",
     "start_time": "2022-08-29T16:57:52.127726Z"
    }
   },
   "outputs": [
    {
     "data": {
      "text/plain": [
       "['a', 'a', 'a']"
      ]
     },
     "execution_count": 21,
     "metadata": {},
     "output_type": "execute_result"
    }
   ],
   "source": [
    "re.findall(r\"[aeiou]\", \"banana\", re.IGNORECASE)"
   ]
  },
  {
   "cell_type": "code",
   "execution_count": 22,
   "id": "b1046aa2",
   "metadata": {
    "ExecuteTime": {
     "end_time": "2022-08-29T16:57:52.133973Z",
     "start_time": "2022-08-29T16:57:52.131840Z"
    }
   },
   "outputs": [
    {
     "data": {
      "text/plain": [
       "['a', 'a', 'a']"
      ]
     },
     "execution_count": 22,
     "metadata": {},
     "output_type": "execute_result"
    }
   ],
   "source": [
    "re.findall(r\"a|e|i|o|u\", \"banana\", re.IGNORECASE)"
   ]
  },
  {
   "cell_type": "code",
   "execution_count": 23,
   "id": "ab6361ea",
   "metadata": {
    "ExecuteTime": {
     "end_time": "2022-08-29T16:57:52.137593Z",
     "start_time": "2022-08-29T16:57:52.134904Z"
    }
   },
   "outputs": [
    {
     "data": {
      "text/plain": [
       "<re.Match object; span=(0, 10), match='bananarama'>"
      ]
     },
     "execution_count": 23,
     "metadata": {},
     "output_type": "execute_result"
    }
   ],
   "source": [
    "# carot is the string starts-with\n",
    "# . is any character\n",
    "# * is zero or more\n",
    "re.search(r\"^b.*\", \"bananarama\")"
   ]
  },
  {
   "cell_type": "code",
   "execution_count": 24,
   "id": "72e883b1",
   "metadata": {
    "ExecuteTime": {
     "end_time": "2022-08-29T16:57:52.140441Z",
     "start_time": "2022-08-29T16:57:52.138414Z"
    }
   },
   "outputs": [
    {
     "data": {
      "text/plain": [
       "<re.Match object; span=(0, 17), match='bananarama pajama'>"
      ]
     },
     "execution_count": 24,
     "metadata": {},
     "output_type": "execute_result"
    }
   ],
   "source": [
    "# .* finds the largest possible match\n",
    "# technical term is greedy\n",
    "re.search(r\"^b.*\", \"bananarama pajama\")"
   ]
  },
  {
   "cell_type": "code",
   "execution_count": 25,
   "id": "cf245ab4",
   "metadata": {
    "ExecuteTime": {
     "end_time": "2022-08-29T16:57:52.143919Z",
     "start_time": "2022-08-29T16:57:52.141261Z"
    }
   },
   "outputs": [
    {
     "data": {
      "text/plain": [
       "<re.Match object; span=(0, 1), match='t'>"
      ]
     },
     "execution_count": 25,
     "metadata": {},
     "output_type": "execute_result"
    }
   ],
   "source": [
    "re.search(r\"\\w\", \"this\")"
   ]
  },
  {
   "cell_type": "code",
   "execution_count": 26,
   "id": "7571017f",
   "metadata": {
    "ExecuteTime": {
     "end_time": "2022-08-29T16:57:52.147100Z",
     "start_time": "2022-08-29T16:57:52.144672Z"
    }
   },
   "outputs": [
    {
     "data": {
      "text/plain": [
       "<re.Match object; span=(0, 2), match='th'>"
      ]
     },
     "execution_count": 26,
     "metadata": {},
     "output_type": "execute_result"
    }
   ],
   "source": [
    "re.search(r\"\\w\\w\", \"this\")"
   ]
  },
  {
   "cell_type": "code",
   "execution_count": 27,
   "id": "95f1cc98",
   "metadata": {
    "ExecuteTime": {
     "end_time": "2022-08-29T16:57:52.151253Z",
     "start_time": "2022-08-29T16:57:52.147911Z"
    }
   },
   "outputs": [
    {
     "data": {
      "text/plain": [
       "<re.Match object; span=(0, 4), match='this'>"
      ]
     },
     "execution_count": 27,
     "metadata": {},
     "output_type": "execute_result"
    }
   ],
   "source": [
    "re.search(r\"\\w+\", \"this\")"
   ]
  },
  {
   "cell_type": "code",
   "execution_count": 28,
   "id": "54d500e8",
   "metadata": {
    "ExecuteTime": {
     "end_time": "2022-08-29T16:57:52.159803Z",
     "start_time": "2022-08-29T16:57:52.156006Z"
    }
   },
   "outputs": [
    {
     "data": {
      "text/plain": [
       "<re.Match object; span=(0, 4), match='this'>"
      ]
     },
     "execution_count": 28,
     "metadata": {},
     "output_type": "execute_result"
    }
   ],
   "source": [
    "re.search(r\"\\w+\", \"this is an example\")"
   ]
  },
  {
   "cell_type": "code",
   "execution_count": 29,
   "id": "89f6903d",
   "metadata": {
    "ExecuteTime": {
     "end_time": "2022-08-29T16:57:52.163459Z",
     "start_time": "2022-08-29T16:57:52.161371Z"
    }
   },
   "outputs": [],
   "source": [
    "# \\w means any [a-zA-Z0-9_]\n",
    "# = matches 1 or more of the preceeding pattern\n",
    "#re.search(r\")"
   ]
  },
  {
   "cell_type": "code",
   "execution_count": 30,
   "id": "f41d6dfb",
   "metadata": {
    "ExecuteTime": {
     "end_time": "2022-08-29T16:57:52.167184Z",
     "start_time": "2022-08-29T16:57:52.164470Z"
    }
   },
   "outputs": [
    {
     "data": {
      "text/plain": [
       "['thi', 'cat', 'and', 'tha', 'dog']"
      ]
     },
     "execution_count": 30,
     "metadata": {},
     "output_type": "execute_result"
    }
   ],
   "source": [
    "# {number} matches exaclty that many of the previous pattern\n",
    "re.findall(r\"\\w{3}\", \"this is a cat and that is a dog.\")"
   ]
  },
  {
   "cell_type": "code",
   "execution_count": 31,
   "id": "e9a46b53",
   "metadata": {
    "ExecuteTime": {
     "end_time": "2022-08-29T16:57:52.170972Z",
     "start_time": "2022-08-29T16:57:52.168026Z"
    }
   },
   "outputs": [
    {
     "data": {
      "text/plain": [
       "['this', 'cat', 'and', 'that', 'dog']"
      ]
     },
     "execution_count": 31,
     "metadata": {},
     "output_type": "execute_result"
    }
   ],
   "source": [
    "# {number, } means at least that number - Finds string at least that number\n",
    "re.findall(r\"\\w{3,}\", \"this is a cat and that is a dog.\")"
   ]
  },
  {
   "cell_type": "code",
   "execution_count": 32,
   "id": "d4aee466",
   "metadata": {
    "ExecuteTime": {
     "end_time": "2022-08-29T16:57:52.174729Z",
     "start_time": "2022-08-29T16:57:52.172276Z"
    }
   },
   "outputs": [
    {
     "data": {
      "text/plain": [
       "['th', 'is', 'is', 'ca', 'an', 'th', 'at', 'is', 'do']"
      ]
     },
     "execution_count": 32,
     "metadata": {},
     "output_type": "execute_result"
    }
   ],
   "source": [
    "# {number, } means at least that number, number of characters {min,max}\n",
    "re.findall(r\"\\w{2,2}\", \"this is a cat and that is a dog.\")"
   ]
  },
  {
   "cell_type": "code",
   "execution_count": 33,
   "id": "1027b229",
   "metadata": {
    "ExecuteTime": {
     "end_time": "2022-08-29T16:57:52.177541Z",
     "start_time": "2022-08-29T16:57:52.175583Z"
    }
   },
   "outputs": [
    {
     "data": {
      "text/plain": [
       "<re.Match object; span=(0, 3), match='thi'>"
      ]
     },
     "execution_count": 33,
     "metadata": {},
     "output_type": "execute_result"
    }
   ],
   "source": [
    "# {number} matches exaclty that many of the previous pattern\n",
    "re.search(r\"\\w{3}\", \"this is an example\")"
   ]
  },
  {
   "cell_type": "code",
   "execution_count": 34,
   "id": "a797cd6d",
   "metadata": {
    "ExecuteTime": {
     "end_time": "2022-08-29T16:57:52.180707Z",
     "start_time": "2022-08-29T16:57:52.178538Z"
    }
   },
   "outputs": [
    {
     "data": {
      "text/plain": [
       "<re.Match object; span=(0, 10), match='bananarama'>"
      ]
     },
     "execution_count": 34,
     "metadata": {},
     "output_type": "execute_result"
    }
   ],
   "source": [
    "# match b then 1 or more alphanumerics for a word\n",
    "# \\w means any a-zA-Z0-9_\n",
    "# + means 1 or more letters - up to break in string\n",
    "# when the pattern hits the \" \" before pajama, we're done\n",
    "re.search(r\"^b\\w+\", \"bananarama pajama\")"
   ]
  },
  {
   "cell_type": "code",
   "execution_count": 35,
   "id": "fd97a618",
   "metadata": {
    "ExecuteTime": {
     "end_time": "2022-08-29T16:57:52.184170Z",
     "start_time": "2022-08-29T16:57:52.182064Z"
    }
   },
   "outputs": [
    {
     "data": {
      "text/plain": [
       "<re.Match object; span=(0, 2), match='be'>"
      ]
     },
     "execution_count": 35,
     "metadata": {},
     "output_type": "execute_result"
    }
   ],
   "source": [
    "# match b then 1 or more alphanumerics for a word\n",
    "# \\w means any a-zA-Z0-9_\n",
    "# + means 1 or more letters\n",
    "# when the pattern hits the \" \" before pajama, we're done\n",
    "re.search(r\"^b\\w+\", \"be cool\")"
   ]
  },
  {
   "cell_type": "code",
   "execution_count": 36,
   "id": "e776ab84",
   "metadata": {
    "ExecuteTime": {
     "end_time": "2022-08-29T16:57:52.186750Z",
     "start_time": "2022-08-29T16:57:52.185165Z"
    }
   },
   "outputs": [],
   "source": [
    "# match b then 1 or more alphanumerics for a word\n",
    "# \\w means any a-zA-Z0-9_\n",
    "# + means 1 or more letters\n",
    "# when the pattern hits the \" \" before pajama, we're done\n",
    "# + is the same as {1,}\n",
    "re.search(r\"^b\\w+\", \"b cool\")"
   ]
  },
  {
   "cell_type": "code",
   "execution_count": 37,
   "id": "e570a876",
   "metadata": {
    "ExecuteTime": {
     "end_time": "2022-08-29T16:57:52.189936Z",
     "start_time": "2022-08-29T16:57:52.187428Z"
    }
   },
   "outputs": [
    {
     "data": {
      "text/plain": [
       "<re.Match object; span=(0, 1), match='b'>"
      ]
     },
     "execution_count": 37,
     "metadata": {},
     "output_type": "execute_result"
    }
   ],
   "source": [
    "# match b then 1 or more alphanumerics for a word\n",
    "# \\w means any a-zA-Z0-9_\n",
    "# + means 1 or more letters\n",
    "# when the pattern hits the \" \" before pajama, we're done\n",
    "# * is the same as {0,}\n",
    "re.search(r\"^b\\w*\", \"b cool\")"
   ]
  },
  {
   "cell_type": "code",
   "execution_count": 38,
   "id": "0d2d96f7",
   "metadata": {
    "ExecuteTime": {
     "end_time": "2022-08-29T16:57:52.193185Z",
     "start_time": "2022-08-29T16:57:52.191165Z"
    }
   },
   "outputs": [
    {
     "data": {
      "text/plain": [
       "<re.Match object; span=(0, 10), match='bananarama'>"
      ]
     },
     "execution_count": 38,
     "metadata": {},
     "output_type": "execute_result"
    }
   ],
   "source": [
    "# .* finds the largest possible match\n",
    "# technical term is greedy\n",
    "re.search(r\"^b\\w*\\b\", \"bananarama pajama\")"
   ]
  },
  {
   "cell_type": "code",
   "execution_count": 39,
   "id": "4a6ff488",
   "metadata": {
    "ExecuteTime": {
     "end_time": "2022-08-29T16:57:52.196516Z",
     "start_time": "2022-08-29T16:57:52.194032Z"
    }
   },
   "outputs": [
    {
     "data": {
      "text/plain": [
       "<re.Match object; span=(6, 10), match='bana'>"
      ]
     },
     "execution_count": 39,
     "metadata": {},
     "output_type": "execute_result"
    }
   ],
   "source": [
    "# match the character b then any other character\n",
    "re.search(r\"b...\", \"hello bananarama pajama\")"
   ]
  },
  {
   "cell_type": "code",
   "execution_count": 40,
   "id": "c2be0336",
   "metadata": {
    "ExecuteTime": {
     "end_time": "2022-08-29T16:57:52.199871Z",
     "start_time": "2022-08-29T16:57:52.197854Z"
    }
   },
   "outputs": [
    {
     "data": {
      "text/plain": [
       "<re.Match object; span=(6, 10), match='bana'>"
      ]
     },
     "execution_count": 40,
     "metadata": {},
     "output_type": "execute_result"
    }
   ],
   "source": [
    "# match the character b then any other character\n",
    "re.search(r\"b\\w\\w\\w\", \"hello bananarama pajama\")"
   ]
  },
  {
   "cell_type": "code",
   "execution_count": 41,
   "id": "d2efefce",
   "metadata": {
    "ExecuteTime": {
     "end_time": "2022-08-29T16:57:52.202668Z",
     "start_time": "2022-08-29T16:57:52.200685Z"
    }
   },
   "outputs": [
    {
     "data": {
      "text/plain": [
       "<re.Match object; span=(6, 10), match='bana'>"
      ]
     },
     "execution_count": 41,
     "metadata": {},
     "output_type": "execute_result"
    }
   ],
   "source": [
    "# match b followed by 3 of any character\n",
    "re.search(r\"b.{3}\", \"hello bananarama pajama\")"
   ]
  },
  {
   "cell_type": "code",
   "execution_count": 42,
   "id": "2c92a9cc",
   "metadata": {
    "ExecuteTime": {
     "end_time": "2022-08-29T16:57:52.205755Z",
     "start_time": "2022-08-29T16:57:52.203535Z"
    }
   },
   "outputs": [
    {
     "data": {
      "text/plain": [
       "<re.Match object; span=(6, 17), match='bananarama '>"
      ]
     },
     "execution_count": 42,
     "metadata": {},
     "output_type": "execute_result"
    }
   ],
   "source": [
    "re.search(r\"b.* \", \"hello bananarama pajama\")"
   ]
  },
  {
   "cell_type": "code",
   "execution_count": 43,
   "id": "d5adfa7f",
   "metadata": {
    "ExecuteTime": {
     "end_time": "2022-08-29T16:57:52.208994Z",
     "start_time": "2022-08-29T16:57:52.206815Z"
    }
   },
   "outputs": [
    {
     "data": {
      "text/plain": [
       "<re.Match object; span=(0, 1), match='h'>"
      ]
     },
     "execution_count": 43,
     "metadata": {},
     "output_type": "execute_result"
    }
   ],
   "source": [
    "# [^abc] as \"anything that ain't a or b or c\"\n",
    "re.search(r\"[^b]\", \"hello bananarama pajama\")"
   ]
  },
  {
   "cell_type": "code",
   "execution_count": 44,
   "id": "74e29aaf",
   "metadata": {
    "ExecuteTime": {
     "end_time": "2022-08-29T16:57:52.211395Z",
     "start_time": "2022-08-29T16:57:52.209705Z"
    }
   },
   "outputs": [],
   "source": [
    "# let's find something that starts with a then has any number of other characters\n",
    "re.search(r\"^a.*\", \"hello bananarama pajama\")"
   ]
  },
  {
   "cell_type": "code",
   "execution_count": 45,
   "id": "1bd5da00",
   "metadata": {
    "ExecuteTime": {
     "end_time": "2022-08-29T16:57:52.214624Z",
     "start_time": "2022-08-29T16:57:52.212372Z"
    }
   },
   "outputs": [
    {
     "data": {
      "text/plain": [
       "<re.Match object; span=(6, 23), match='bananarama pajama'>"
      ]
     },
     "execution_count": 45,
     "metadata": {},
     "output_type": "execute_result"
    }
   ],
   "source": [
    "re.search(r\"ban.*\", \"hello bananarama pajama\")"
   ]
  },
  {
   "cell_type": "code",
   "execution_count": 46,
   "id": "6fa16056",
   "metadata": {
    "ExecuteTime": {
     "end_time": "2022-08-29T16:57:52.217629Z",
     "start_time": "2022-08-29T16:57:52.215428Z"
    }
   },
   "outputs": [
    {
     "data": {
      "text/plain": [
       "<re.Match object; span=(7, 23), match='ananarama pajama'>"
      ]
     },
     "execution_count": 46,
     "metadata": {},
     "output_type": "execute_result"
    }
   ],
   "source": [
    "re.search(r\"a.*\", \"hello bananarama pajama\")"
   ]
  },
  {
   "cell_type": "code",
   "execution_count": 47,
   "id": "42e3f407",
   "metadata": {
    "ExecuteTime": {
     "end_time": "2022-08-29T16:57:52.221015Z",
     "start_time": "2022-08-29T16:57:52.218340Z"
    }
   },
   "outputs": [
    {
     "data": {
      "text/plain": [
       "<re.Match object; span=(7, 23), match='ananarama pajama'>"
      ]
     },
     "execution_count": 47,
     "metadata": {},
     "output_type": "execute_result"
    }
   ],
   "source": [
    "re.search(r\"a.+\", \"hello bananarama pajama\")"
   ]
  },
  {
   "cell_type": "code",
   "execution_count": 48,
   "id": "36b6267d",
   "metadata": {
    "ExecuteTime": {
     "end_time": "2022-08-29T16:57:52.224047Z",
     "start_time": "2022-08-29T16:57:52.221791Z"
    }
   },
   "outputs": [
    {
     "data": {
      "text/plain": [
       "<re.Match object; span=(0, 17), match='bananarama pajama'>"
      ]
     },
     "execution_count": 48,
     "metadata": {},
     "output_type": "execute_result"
    }
   ],
   "source": [
    "# starts with\n",
    "# anything\n",
    "# ends with \n",
    "re.search(r\"^b.*a\", \"bananarama pajama\")"
   ]
  },
  {
   "cell_type": "code",
   "execution_count": 49,
   "id": "61b9b3aa",
   "metadata": {
    "ExecuteTime": {
     "end_time": "2022-08-29T16:57:52.226661Z",
     "start_time": "2022-08-29T16:57:52.224798Z"
    }
   },
   "outputs": [
    {
     "data": {
      "text/plain": [
       "<re.Match object; span=(0, 10), match='bananarama'>"
      ]
     },
     "execution_count": 49,
     "metadata": {},
     "output_type": "execute_result"
    }
   ],
   "source": [
    "# starts with\n",
    "# anything\n",
    "# ends with \n",
    "re.search(r\"^b\\w+\", \"bananarama pajama\")"
   ]
  },
  {
   "cell_type": "code",
   "execution_count": 50,
   "id": "4b2b4fcd",
   "metadata": {
    "ExecuteTime": {
     "end_time": "2022-08-29T16:57:52.230800Z",
     "start_time": "2022-08-29T16:57:52.227845Z"
    }
   },
   "outputs": [
    {
     "data": {
      "text/plain": [
       "<re.Match object; span=(0, 17), match='bananarama pajama'>"
      ]
     },
     "execution_count": 50,
     "metadata": {},
     "output_type": "execute_result"
    }
   ],
   "source": [
    "re.search(r\".*jama$\", \"bananarama pajama\")"
   ]
  },
  {
   "cell_type": "code",
   "execution_count": 51,
   "id": "d302b3f5",
   "metadata": {
    "ExecuteTime": {
     "end_time": "2022-08-29T16:57:52.233630Z",
     "start_time": "2022-08-29T16:57:52.231741Z"
    }
   },
   "outputs": [
    {
     "data": {
      "text/plain": [
       "<re.Match object; span=(0, 10), match='bananarama'>"
      ]
     },
     "execution_count": 51,
     "metadata": {},
     "output_type": "execute_result"
    }
   ],
   "source": [
    "re.search(r\".*rama\", \"bananarama pajama\")"
   ]
  },
  {
   "cell_type": "code",
   "execution_count": 52,
   "id": "e28919dc",
   "metadata": {
    "ExecuteTime": {
     "end_time": "2022-08-29T16:57:52.236584Z",
     "start_time": "2022-08-29T16:57:52.234448Z"
    }
   },
   "outputs": [
    {
     "data": {
      "text/plain": [
       "<re.Match object; span=(0, 1), match='a'>"
      ]
     },
     "execution_count": 52,
     "metadata": {},
     "output_type": "execute_result"
    }
   ],
   "source": [
    "# \\w matches [a-zA-Z0-9_]\n",
    "re.search(r\"\\w\", \"abc123\")"
   ]
  },
  {
   "cell_type": "code",
   "execution_count": 53,
   "id": "f9d77965",
   "metadata": {
    "ExecuteTime": {
     "end_time": "2022-08-29T16:57:52.239654Z",
     "start_time": "2022-08-29T16:57:52.237384Z"
    }
   },
   "outputs": [
    {
     "data": {
      "text/plain": [
       "<re.Match object; span=(0, 2), match='ab'>"
      ]
     },
     "execution_count": 53,
     "metadata": {},
     "output_type": "execute_result"
    }
   ],
   "source": [
    "# \\w matches [a-zA-Z0-9_]\n",
    "re.search(r\"\\w\\w\", \"abc123\")"
   ]
  },
  {
   "cell_type": "code",
   "execution_count": 54,
   "id": "e06f8717",
   "metadata": {
    "ExecuteTime": {
     "end_time": "2022-08-29T16:57:52.242294Z",
     "start_time": "2022-08-29T16:57:52.240340Z"
    }
   },
   "outputs": [
    {
     "data": {
      "text/plain": [
       "<re.Match object; span=(0, 4), match='abc1'>"
      ]
     },
     "execution_count": 54,
     "metadata": {},
     "output_type": "execute_result"
    }
   ],
   "source": [
    "# \\w matches [a-zA-Z0-9_]\n",
    "re.search(r\"\\w{4}\", \"abc123\")"
   ]
  },
  {
   "cell_type": "code",
   "execution_count": 55,
   "id": "67c02349",
   "metadata": {
    "ExecuteTime": {
     "end_time": "2022-08-29T16:57:52.246031Z",
     "start_time": "2022-08-29T16:57:52.243112Z"
    }
   },
   "outputs": [
    {
     "data": {
      "text/plain": [
       "<re.Match object; span=(0, 1), match='F'>"
      ]
     },
     "execution_count": 55,
     "metadata": {},
     "output_type": "execute_result"
    }
   ],
   "source": [
    "# + metacharacter matches 1 or more of the pattern to the left of that + character\n",
    "# + is greedy like *\n",
    "re.search(r\"f|F+\", \"Fred asked a great question\")"
   ]
  },
  {
   "cell_type": "code",
   "execution_count": 56,
   "id": "73cedb25",
   "metadata": {
    "ExecuteTime": {
     "end_time": "2022-08-29T16:57:52.248901Z",
     "start_time": "2022-08-29T16:57:52.246876Z"
    }
   },
   "outputs": [
    {
     "data": {
      "text/plain": [
       "<re.Match object; span=(0, 30), match='F money asked a great question'>"
      ]
     },
     "execution_count": 56,
     "metadata": {},
     "output_type": "execute_result"
    }
   ],
   "source": [
    "# + metacharacter matches 1 or more of the pattern to the left of that + character\n",
    "# + is greedy like *\n",
    "re.search(r\"f|F.*\", \"F money asked a great question\")"
   ]
  },
  {
   "cell_type": "code",
   "execution_count": 57,
   "id": "85d09b28",
   "metadata": {
    "ExecuteTime": {
     "end_time": "2022-08-29T16:57:52.251803Z",
     "start_time": "2022-08-29T16:57:52.249597Z"
    }
   },
   "outputs": [
    {
     "data": {
      "text/plain": [
       "<re.Match object; span=(0, 5), match='stuff'>"
      ]
     },
     "execution_count": 57,
     "metadata": {},
     "output_type": "execute_result"
    }
   ],
   "source": [
    "# what if we want only letters and not letters + numbers + _ character\n",
    "re.search(r\"[a-zA-Z]*\", \"stuff and things and 123\")"
   ]
  },
  {
   "cell_type": "code",
   "execution_count": 58,
   "id": "d8ffd2c0",
   "metadata": {
    "ExecuteTime": {
     "end_time": "2022-08-29T16:57:52.254727Z",
     "start_time": "2022-08-29T16:57:52.252632Z"
    }
   },
   "outputs": [
    {
     "data": {
      "text/plain": [
       "['stuff', 'a', 'nd', 'things', 'and']"
      ]
     },
     "execution_count": 58,
     "metadata": {},
     "output_type": "execute_result"
    }
   ],
   "source": [
    "# what if we want only letters and not letters + numbers + _ character\n",
    "# the [a-z]+ is finding any and all sequences that are only [a-zA-Z]\n",
    "re.findall(r\"[a-zA-Z]+\", \"42 $stuff a****nd things and 123\")"
   ]
  },
  {
   "cell_type": "markdown",
   "id": "b4965013",
   "metadata": {},
   "source": [
    "## Difference between `*` and `+`"
   ]
  },
  {
   "cell_type": "code",
   "execution_count": 59,
   "id": "6c51c326",
   "metadata": {
    "ExecuteTime": {
     "end_time": "2022-08-29T16:57:52.257092Z",
     "start_time": "2022-08-29T16:57:52.255499Z"
    }
   },
   "outputs": [],
   "source": [
    "# Match F and one or more of a a-zA-Z0-9 character\n",
    "# Does not match F on its own\n",
    "re.search(r\"F\\w+\\s\", \"F money asked a great question\")"
   ]
  },
  {
   "cell_type": "code",
   "execution_count": 60,
   "id": "a1f80d97",
   "metadata": {
    "ExecuteTime": {
     "end_time": "2022-08-29T16:57:52.260423Z",
     "start_time": "2022-08-29T16:57:52.257977Z"
    }
   },
   "outputs": [
    {
     "data": {
      "text/plain": [
       "<re.Match object; span=(0, 2), match='F '>"
      ]
     },
     "execution_count": 60,
     "metadata": {},
     "output_type": "execute_result"
    }
   ],
   "source": [
    "# Match F then zero or more of a-zA-Z0-9\n",
    "re.search(r\"F\\w*\\s\", \"F money asked a great question\")"
   ]
  },
  {
   "cell_type": "code",
   "execution_count": 61,
   "id": "81f50802",
   "metadata": {
    "ExecuteTime": {
     "end_time": "2022-08-29T16:57:52.263890Z",
     "start_time": "2022-08-29T16:57:52.261186Z"
    }
   },
   "outputs": [
    {
     "data": {
      "text/plain": [
       "<re.Match object; span=(0, 1), match='F'>"
      ]
     },
     "execution_count": 61,
     "metadata": {},
     "output_type": "execute_result"
    }
   ],
   "source": [
    "# Match F then zero or more of a-zA-Z0-9\n",
    "re.search(r\"F\\w{,4}\", \"F money asked a great question\")"
   ]
  },
  {
   "cell_type": "code",
   "execution_count": 62,
   "id": "2533b324",
   "metadata": {
    "ExecuteTime": {
     "end_time": "2022-08-29T16:57:52.266672Z",
     "start_time": "2022-08-29T16:57:52.264735Z"
    }
   },
   "outputs": [
    {
     "data": {
      "text/plain": [
       "<re.Match object; span=(0, 4), match='Fred'>"
      ]
     },
     "execution_count": 62,
     "metadata": {},
     "output_type": "execute_result"
    }
   ],
   "source": [
    "# Match F then zero or more of a-zA-Z0-9\n",
    "re.search(r\"F\\w{,4}\", \"Fred asked a great question\")"
   ]
  },
  {
   "cell_type": "code",
   "execution_count": null,
   "id": "ed6ab439",
   "metadata": {},
   "outputs": [],
   "source": []
  },
  {
   "cell_type": "code",
   "execution_count": 63,
   "id": "4325d124",
   "metadata": {
    "ExecuteTime": {
     "end_time": "2022-08-29T16:57:52.269429Z",
     "start_time": "2022-08-29T16:57:52.267423Z"
    }
   },
   "outputs": [
    {
     "data": {
      "text/plain": [
       "<re.Match object; span=(0, 3), match='abc'>"
      ]
     },
     "execution_count": 63,
     "metadata": {},
     "output_type": "execute_result"
    }
   ],
   "source": [
    "re.search(r\"\\w\\w\\w\", \"abc123\")"
   ]
  },
  {
   "cell_type": "code",
   "execution_count": null,
   "id": "29c1a5c1",
   "metadata": {},
   "outputs": [],
   "source": []
  },
  {
   "cell_type": "code",
   "execution_count": 64,
   "id": "3a24431b",
   "metadata": {
    "ExecuteTime": {
     "end_time": "2022-08-29T16:57:52.273853Z",
     "start_time": "2022-08-29T16:57:52.270251Z"
    }
   },
   "outputs": [
    {
     "data": {
      "text/plain": [
       "<re.Match object; span=(0, 6), match='abc123'>"
      ]
     },
     "execution_count": 64,
     "metadata": {},
     "output_type": "execute_result"
    }
   ],
   "source": [
    "re.search(r\"\\w\\w\\w\\w\\w\\w\", \"abc123\")"
   ]
  },
  {
   "cell_type": "code",
   "execution_count": 65,
   "id": "f9517d4e",
   "metadata": {
    "ExecuteTime": {
     "end_time": "2022-08-29T16:57:52.276673Z",
     "start_time": "2022-08-29T16:57:52.274898Z"
    }
   },
   "outputs": [],
   "source": [
    "# seven \\w characters will only match seven of any [a-zA-Z0-9]\n",
    "re.search(r\"\\w\\w\\w\\w\\w\\w\\w\", \"abc123\")"
   ]
  },
  {
   "cell_type": "code",
   "execution_count": 66,
   "id": "aa999c79",
   "metadata": {
    "ExecuteTime": {
     "end_time": "2022-08-29T16:57:52.281443Z",
     "start_time": "2022-08-29T16:57:52.277592Z"
    }
   },
   "outputs": [
    {
     "data": {
      "text/plain": [
       "<re.Match object; span=(0, 12), match='abc123def456'>"
      ]
     },
     "execution_count": 66,
     "metadata": {},
     "output_type": "execute_result"
    }
   ],
   "source": [
    "re.search(r\"\\w*\", \"abc123def456\")"
   ]
  },
  {
   "cell_type": "code",
   "execution_count": 67,
   "id": "97f655bc",
   "metadata": {
    "ExecuteTime": {
     "end_time": "2022-08-29T16:57:52.284458Z",
     "start_time": "2022-08-29T16:57:52.282507Z"
    }
   },
   "outputs": [
    {
     "data": {
      "text/plain": [
       "<re.Match object; span=(0, 3), match='abc'>"
      ]
     },
     "execution_count": 67,
     "metadata": {},
     "output_type": "execute_result"
    }
   ],
   "source": [
    "# curly braces for repetition\n",
    "re.search(r\"\\w{3}\", \"abc123\")"
   ]
  },
  {
   "cell_type": "code",
   "execution_count": 68,
   "id": "1810aaa1",
   "metadata": {
    "ExecuteTime": {
     "end_time": "2022-08-29T16:57:52.287342Z",
     "start_time": "2022-08-29T16:57:52.285320Z"
    }
   },
   "outputs": [
    {
     "data": {
      "text/plain": [
       "<re.Match object; span=(0, 6), match='abc123'>"
      ]
     },
     "execution_count": 68,
     "metadata": {},
     "output_type": "execute_result"
    }
   ],
   "source": [
    "re.search(r\"\\w{1,6}\", \"abc123\")"
   ]
  },
  {
   "cell_type": "code",
   "execution_count": 69,
   "id": "352937ce",
   "metadata": {
    "ExecuteTime": {
     "end_time": "2022-08-29T16:57:52.290241Z",
     "start_time": "2022-08-29T16:57:52.288070Z"
    }
   },
   "outputs": [
    {
     "data": {
      "text/plain": [
       "<re.Match object; span=(0, 6), match='abc123'>"
      ]
     },
     "execution_count": 69,
     "metadata": {},
     "output_type": "execute_result"
    }
   ],
   "source": [
    "# {n,} matches n or more times\n",
    "re.search(r\"\\w{1,}\", \"abc123 is the place to be\")"
   ]
  },
  {
   "cell_type": "code",
   "execution_count": 70,
   "id": "127bdcb3",
   "metadata": {
    "ExecuteTime": {
     "end_time": "2022-08-29T16:57:52.293778Z",
     "start_time": "2022-08-29T16:57:52.290993Z"
    }
   },
   "outputs": [
    {
     "data": {
      "text/plain": [
       "<re.Match object; span=(0, 6), match='abc123'>"
      ]
     },
     "execution_count": 70,
     "metadata": {},
     "output_type": "execute_result"
    }
   ],
   "source": [
    "# {n,} matches n or more times\n",
    "# \\w+ means one or more alphanumerics\n",
    "# \\w{1,} means the same thing\n",
    "re.search(r\"\\w+\", \"abc123 is the place to be\")"
   ]
  },
  {
   "cell_type": "code",
   "execution_count": 71,
   "id": "530f0b3e",
   "metadata": {
    "ExecuteTime": {
     "end_time": "2022-08-29T16:57:52.297888Z",
     "start_time": "2022-08-29T16:57:52.294597Z"
    }
   },
   "outputs": [
    {
     "data": {
      "text/plain": [
       "['abc123', 'is', 'the', 'place', 'to', 'be']"
      ]
     },
     "execution_count": 71,
     "metadata": {},
     "output_type": "execute_result"
    }
   ],
   "source": [
    "# {n,} matches n or more times\n",
    "re.findall(r\"\\w{1,}\", \"abc123 is the place to be\")"
   ]
  },
  {
   "cell_type": "code",
   "execution_count": 72,
   "id": "2b2afd0b",
   "metadata": {
    "ExecuteTime": {
     "end_time": "2022-08-29T16:57:52.302807Z",
     "start_time": "2022-08-29T16:57:52.299919Z"
    }
   },
   "outputs": [
    {
     "data": {
      "text/plain": [
       "['abc123',\n",
       " '',\n",
       " 'is',\n",
       " '',\n",
       " 'the',\n",
       " '',\n",
       " 'place',\n",
       " '',\n",
       " 'to',\n",
       " '',\n",
       " 'be',\n",
       " '',\n",
       " 'banara',\n",
       " 'mapaja',\n",
       " 'ma',\n",
       " '']"
      ]
     },
     "execution_count": 72,
     "metadata": {},
     "output_type": "execute_result"
    }
   ],
   "source": [
    "# {n,} matches n or more times\n",
    "re.findall(r\"\\w{0,6}\", \"abc123 is the place to be banaramapajama\")"
   ]
  },
  {
   "cell_type": "code",
   "execution_count": 73,
   "id": "73f7817a",
   "metadata": {
    "ExecuteTime": {
     "end_time": "2022-08-29T16:57:52.306967Z",
     "start_time": "2022-08-29T16:57:52.303782Z"
    }
   },
   "outputs": [
    {
     "data": {
      "text/plain": [
       "['abc123 ', 'is ', 'the ', 'place ', 'to ', 'be ']"
      ]
     },
     "execution_count": 73,
     "metadata": {},
     "output_type": "execute_result"
    }
   ],
   "source": [
    "# {n,} matches n or more times\n",
    "# space after the 1-6 alphanumeric \\w matches\n",
    "re.findall(r\"\\w{1,6} \", \"abc123 is the place to be banaramapajama\")"
   ]
  },
  {
   "cell_type": "code",
   "execution_count": 74,
   "id": "5bca7a90",
   "metadata": {
    "ExecuteTime": {
     "end_time": "2022-08-29T16:57:52.309835Z",
     "start_time": "2022-08-29T16:57:52.307745Z"
    }
   },
   "outputs": [
    {
     "data": {
      "text/plain": [
       "<re.Match object; span=(0, 6), match='abc123'>"
      ]
     },
     "execution_count": 74,
     "metadata": {},
     "output_type": "execute_result"
    }
   ],
   "source": [
    "# {n,} matches n or more times\n",
    "re.search(r\"\\w{1,6}\", \"abc123 is the place to be banaramapajama\")"
   ]
  },
  {
   "cell_type": "code",
   "execution_count": 75,
   "id": "f21315ca",
   "metadata": {
    "ExecuteTime": {
     "end_time": "2022-08-29T16:57:52.312913Z",
     "start_time": "2022-08-29T16:57:52.310795Z"
    }
   },
   "outputs": [
    {
     "data": {
      "text/plain": [
       "<re.Match object; span=(0, 6), match='abc123'>"
      ]
     },
     "execution_count": 75,
     "metadata": {},
     "output_type": "execute_result"
    }
   ],
   "source": [
    "# {n,} matches n or more times\n",
    "re.search(r\"\\w{2,6}\", \"abc123\")"
   ]
  },
  {
   "cell_type": "code",
   "execution_count": 76,
   "id": "3dddeaa7",
   "metadata": {
    "ExecuteTime": {
     "end_time": "2022-08-29T16:57:52.316449Z",
     "start_time": "2022-08-29T16:57:52.314253Z"
    }
   },
   "outputs": [
    {
     "data": {
      "text/plain": [
       "['abc123', 'is', 'the', 'place', 'to', 'be']"
      ]
     },
     "execution_count": 76,
     "metadata": {},
     "output_type": "execute_result"
    }
   ],
   "source": [
    "# r\"\\w+\" is the same as r\"\\w{1,}\"\n",
    "re.findall(r\"\\w+\", \"abc123 is the place to be\")"
   ]
  },
  {
   "cell_type": "code",
   "execution_count": 77,
   "id": "d530fddb",
   "metadata": {
    "ExecuteTime": {
     "end_time": "2022-08-29T16:57:52.319487Z",
     "start_time": "2022-08-29T16:57:52.317301Z"
    }
   },
   "outputs": [
    {
     "data": {
      "text/plain": [
       "<re.Match object; span=(0, 8), match='226-3232'>"
      ]
     },
     "execution_count": 77,
     "metadata": {},
     "output_type": "execute_result"
    }
   ],
   "source": [
    "# 3 digits then a single character of any then 4 digits\n",
    "re.search(r\"[0-9]{3}.[0-9]{4}\", \"226-3232\")"
   ]
  },
  {
   "cell_type": "code",
   "execution_count": 78,
   "id": "e722502f",
   "metadata": {
    "ExecuteTime": {
     "end_time": "2022-08-29T16:57:52.323378Z",
     "start_time": "2022-08-29T16:57:52.320392Z"
    }
   },
   "outputs": [
    {
     "data": {
      "text/plain": [
       "<re.Match object; span=(0, 8), match='226.3232'>"
      ]
     },
     "execution_count": 78,
     "metadata": {},
     "output_type": "execute_result"
    }
   ],
   "source": [
    "# 3 digits then a single character of any then 4 digits\n",
    "re.search(r\"[0-9]{3}.[0-9]{4}\", \"226.3232\")"
   ]
  },
  {
   "cell_type": "code",
   "execution_count": 79,
   "id": "08e90387",
   "metadata": {
    "ExecuteTime": {
     "end_time": "2022-08-29T16:57:52.326598Z",
     "start_time": "2022-08-29T16:57:52.324763Z"
    }
   },
   "outputs": [],
   "source": [
    "# What if the delimiter is optional?\n",
    "# question mark metacharacter means the thing to the left of the ? is optional\n",
    "re.search(r\"[0-9]{3}.[0-9]{4}\", \"2263232\")\n"
   ]
  },
  {
   "cell_type": "code",
   "execution_count": 80,
   "id": "30a1a6ec",
   "metadata": {
    "ExecuteTime": {
     "end_time": "2022-08-29T16:57:52.330650Z",
     "start_time": "2022-08-29T16:57:52.327497Z"
    }
   },
   "outputs": [
    {
     "data": {
      "text/plain": [
       "<re.Match object; span=(0, 7), match='2263232'>"
      ]
     },
     "execution_count": 80,
     "metadata": {},
     "output_type": "execute_result"
    }
   ],
   "source": [
    "# What if the delimiter is optional?\n",
    "# question mark metacharacter means the thing to the left of the ? is optional\n",
    "re.search(r\"[0-9]{3}.?[0-9]{4}\", \"2263232\")\n"
   ]
  },
  {
   "cell_type": "code",
   "execution_count": 81,
   "id": "be45f6d7",
   "metadata": {
    "ExecuteTime": {
     "end_time": "2022-08-29T16:57:52.333734Z",
     "start_time": "2022-08-29T16:57:52.331641Z"
    }
   },
   "outputs": [
    {
     "data": {
      "text/plain": [
       "<re.Match object; span=(0, 8), match='226-3232'>"
      ]
     },
     "execution_count": 81,
     "metadata": {},
     "output_type": "execute_result"
    }
   ],
   "source": [
    "re.search(r\"[0-9]{3}.?[0-9]{4}\", \"226-3232\")\n"
   ]
  },
  {
   "cell_type": "code",
   "execution_count": 82,
   "id": "9e45513d",
   "metadata": {
    "ExecuteTime": {
     "end_time": "2022-08-29T16:57:52.345065Z",
     "start_time": "2022-08-29T16:57:52.342508Z"
    }
   },
   "outputs": [
    {
     "data": {
      "text/plain": [
       "<re.Match object; span=(0, 7), match='2263232'>"
      ]
     },
     "execution_count": 82,
     "metadata": {},
     "output_type": "execute_result"
    }
   ],
   "source": [
    "re.search(r\"[0-9]{3}.?[0-9]{4}\", \"2263232\")"
   ]
  },
  {
   "cell_type": "markdown",
   "id": "95a06a11",
   "metadata": {},
   "source": [
    "## Using a RegEx pattern to split a string\n",
    "- The `re.split` method returns a list of strings\n",
    "- The matching substring is removed\n",
    "- We can split on any regex pattern, not only character literals"
   ]
  },
  {
   "cell_type": "code",
   "execution_count": 83,
   "id": "bfe7f60f",
   "metadata": {
    "ExecuteTime": {
     "end_time": "2022-08-29T16:57:52.348318Z",
     "start_time": "2022-08-29T16:57:52.346082Z"
    }
   },
   "outputs": [
    {
     "data": {
      "text/plain": [
       "['210', '226', '3232']"
      ]
     },
     "execution_count": 83,
     "metadata": {},
     "output_type": "execute_result"
    }
   ],
   "source": [
    "\"210-226-3232\".split(\"-\")"
   ]
  },
  {
   "cell_type": "code",
   "execution_count": 121,
   "id": "746ed66e",
   "metadata": {
    "ExecuteTime": {
     "end_time": "2022-08-29T17:14:17.534533Z",
     "start_time": "2022-08-29T17:14:17.524909Z"
    }
   },
   "outputs": [
    {
     "data": {
      "text/plain": [
       "['210', '226', '3232']"
      ]
     },
     "execution_count": 121,
     "metadata": {},
     "output_type": "execute_result"
    }
   ],
   "source": [
    "# \\D means \"anything that's not a  digit\"\n",
    "re.split(r\"-| \", \"210 226 3232\")"
   ]
  },
  {
   "cell_type": "code",
   "execution_count": 84,
   "id": "62abee0c",
   "metadata": {
    "ExecuteTime": {
     "end_time": "2022-08-29T16:57:52.351355Z",
     "start_time": "2022-08-29T16:57:52.349191Z"
    }
   },
   "outputs": [
    {
     "data": {
      "text/plain": [
       "['210', '226', '3232']"
      ]
     },
     "execution_count": 84,
     "metadata": {},
     "output_type": "execute_result"
    }
   ],
   "source": [
    "# Split the phone number on the\n",
    "re.split(r\"-| \", \"210 226 3232\")"
   ]
  },
  {
   "cell_type": "code",
   "execution_count": 85,
   "id": "c1d7b632",
   "metadata": {
    "ExecuteTime": {
     "end_time": "2022-08-29T16:57:52.354513Z",
     "start_time": "2022-08-29T16:57:52.352642Z"
    },
    "scrolled": true
   },
   "outputs": [
    {
     "data": {
      "text/plain": [
       "['210', '226', '3232']"
      ]
     },
     "execution_count": 85,
     "metadata": {},
     "output_type": "execute_result"
    }
   ],
   "source": [
    "# Split the phone number on the\n",
    "re.split(r\"-| \", \"210-226-3232\")"
   ]
  },
  {
   "cell_type": "code",
   "execution_count": 86,
   "id": "d9a51e9e",
   "metadata": {
    "ExecuteTime": {
     "end_time": "2022-08-29T16:57:52.357350Z",
     "start_time": "2022-08-29T16:57:52.355252Z"
    },
    "scrolled": true
   },
   "outputs": [
    {
     "data": {
      "text/plain": [
       "['this', 'that', 'and', 'the', 'other']"
      ]
     },
     "execution_count": 86,
     "metadata": {},
     "output_type": "execute_result"
    }
   ],
   "source": [
    "# Splits the string on the space character\n",
    "# The \\ is necessary\n",
    "re.split(r\" \", \"this that and the other\")"
   ]
  },
  {
   "cell_type": "code",
   "execution_count": 87,
   "id": "7d20cf95",
   "metadata": {
    "ExecuteTime": {
     "end_time": "2022-08-29T16:57:52.360660Z",
     "start_time": "2022-08-29T16:57:52.358114Z"
    }
   },
   "outputs": [
    {
     "data": {
      "text/plain": [
       "\"Harry_Belafonte_-_Jump_In_the_Line.mp3,Willie_Mae_'Big_Mama'_Thornton_-_Hound_Dog.mp3,Tina_Turner_-_Proud_Mary.mp3,Prince_-_Purple_Rain.mp3\""
      ]
     },
     "execution_count": 87,
     "metadata": {},
     "output_type": "execute_result"
    }
   ],
   "source": [
    "# Parse these songs into a dataframe containing 2 columns: artist_name and song_name\n",
    "# Hint: break the string into an array of strings that hold each song/artist record\n",
    "songs = \"Harry_Belafonte_-_Jump_In_the_Line.mp3,Willie_Mae_'Big_Mama'_Thornton_-_Hound_Dog.mp3,Tina_Turner_-_Proud_Mary.mp3,Prince_-_Purple_Rain.mp3\"\n",
    "songs"
   ]
  },
  {
   "cell_type": "code",
   "execution_count": 122,
   "id": "a9db3cd0",
   "metadata": {
    "ExecuteTime": {
     "end_time": "2022-08-29T17:16:17.893977Z",
     "start_time": "2022-08-29T17:16:17.885583Z"
    }
   },
   "outputs": [
    {
     "data": {
      "text/plain": [
       "['Harry_Belafonte_-_Jump_In_the_Line.mp3',\n",
       " \"Willie_Mae_'Big_Mama'_Thornton_-_Hound_Dog.mp3\",\n",
       " 'Tina_Turner_-_Proud_Mary.mp3',\n",
       " 'Prince_-_Purple_Rain.mp3']"
      ]
     },
     "execution_count": 122,
     "metadata": {},
     "output_type": "execute_result"
    }
   ],
   "source": [
    "# How could we break this up into a list of individual mp3s?\n",
    "\n",
    "songs = re.split(r\",\", songs)\n",
    "songs"
   ]
  },
  {
   "cell_type": "code",
   "execution_count": 125,
   "id": "3582e1a9",
   "metadata": {
    "ExecuteTime": {
     "end_time": "2022-08-29T17:21:12.412557Z",
     "start_time": "2022-08-29T17:21:12.372962Z"
    }
   },
   "outputs": [
    {
     "data": {
      "text/html": [
       "<div>\n",
       "<style scoped>\n",
       "    .dataframe tbody tr th:only-of-type {\n",
       "        vertical-align: middle;\n",
       "    }\n",
       "\n",
       "    .dataframe tbody tr th {\n",
       "        vertical-align: top;\n",
       "    }\n",
       "\n",
       "    .dataframe thead th {\n",
       "        text-align: right;\n",
       "    }\n",
       "</style>\n",
       "<table border=\"1\" class=\"dataframe\">\n",
       "  <thead>\n",
       "    <tr style=\"text-align: right;\">\n",
       "      <th></th>\n",
       "      <th>artist</th>\n",
       "      <th>song_name</th>\n",
       "    </tr>\n",
       "  </thead>\n",
       "  <tbody>\n",
       "    <tr>\n",
       "      <th>0</th>\n",
       "      <td>Harry Belafonte</td>\n",
       "      <td>Jump In the Line</td>\n",
       "    </tr>\n",
       "    <tr>\n",
       "      <th>1</th>\n",
       "      <td>Willie Mae 'Big Mama' Thornton</td>\n",
       "      <td>Hound Dog</td>\n",
       "    </tr>\n",
       "    <tr>\n",
       "      <th>2</th>\n",
       "      <td>Tina Turner</td>\n",
       "      <td>Proud Mary</td>\n",
       "    </tr>\n",
       "    <tr>\n",
       "      <th>3</th>\n",
       "      <td>Prince</td>\n",
       "      <td>Purple Rain</td>\n",
       "    </tr>\n",
       "  </tbody>\n",
       "</table>\n",
       "</div>"
      ],
      "text/plain": [
       "                           artist         song_name\n",
       "0                 Harry Belafonte  Jump In the Line\n",
       "1  Willie Mae 'Big Mama' Thornton         Hound Dog\n",
       "2                     Tina Turner        Proud Mary\n",
       "3                          Prince       Purple Rain"
      ]
     },
     "execution_count": 125,
     "metadata": {},
     "output_type": "execute_result"
    }
   ],
   "source": [
    "# take this string of songs and artist and turn into dataframe\n",
    "# Convert each song entry of artist and song name into a ditionary\n",
    "# then create a data frame out of our list of dictionary\n",
    "collection = []\n",
    "for song in songs:\n",
    "    pieces = re.split(r\"_-_\", song)\n",
    "    output = {}\n",
    "    output[\"artist\"] = pieces[0].replace(\"_\", \" \")\n",
    "    output[\"song_name\"]=pieces[1].replace(\"_\", \" \").replace('.mp3', '')\n",
    "    collection.append(output)\n",
    "    \n",
    "pd.DataFrame(collection)\n"
   ]
  },
  {
   "cell_type": "code",
   "execution_count": null,
   "id": "dbf7bafa",
   "metadata": {},
   "outputs": [],
   "source": []
  },
  {
   "cell_type": "code",
   "execution_count": 88,
   "id": "25b838c5",
   "metadata": {
    "ExecuteTime": {
     "end_time": "2022-08-29T16:57:52.363393Z",
     "start_time": "2022-08-29T16:57:52.361799Z"
    }
   },
   "outputs": [],
   "source": [
    "# re.method(pattern, subject_string, re.IGNORECASE)\n",
    "\n",
    "# re.split\n",
    "# re.search\n",
    "# re.findall"
   ]
  },
  {
   "cell_type": "code",
   "execution_count": null,
   "id": "8ae0090c",
   "metadata": {},
   "outputs": [],
   "source": []
  },
  {
   "cell_type": "markdown",
   "id": "f5636e9d",
   "metadata": {},
   "source": [
    "## [Character Classes]\n",
    "- Square brackets make character classes \n",
    "- Character classes provide OR behavior\n",
    "- In a character classe, `^` works as a \"None of\" operator\n",
    "- Metacharacters match their literal character when inside of square brackets for a character class"
   ]
  },
  {
   "cell_type": "code",
   "execution_count": 89,
   "id": "adae9f5b",
   "metadata": {
    "ExecuteTime": {
     "end_time": "2022-08-29T16:57:52.365866Z",
     "start_time": "2022-08-29T16:57:52.364023Z"
    }
   },
   "outputs": [
    {
     "data": {
      "text/plain": [
       "<re.Match object; span=(1, 2), match='a'>"
      ]
     },
     "execution_count": 89,
     "metadata": {},
     "output_type": "execute_result"
    }
   ],
   "source": [
    "# has a vowel, anywhere\n",
    "re.search(r\"[aeiou]\", \"banana\", re.IGNORECASE)"
   ]
  },
  {
   "cell_type": "code",
   "execution_count": 90,
   "id": "65d0890d",
   "metadata": {
    "ExecuteTime": {
     "end_time": "2022-08-29T16:57:52.369134Z",
     "start_time": "2022-08-29T16:57:52.366676Z"
    }
   },
   "outputs": [
    {
     "data": {
      "text/plain": [
       "['gray', 'grey']"
      ]
     },
     "execution_count": 90,
     "metadata": {},
     "output_type": "execute_result"
    }
   ],
   "source": [
    "# The parentheses around \n",
    "re.findall(r\"gr[ae]y\", \"Some people spell gray like grey\")"
   ]
  },
  {
   "cell_type": "code",
   "execution_count": 91,
   "id": "0cd12b75",
   "metadata": {
    "ExecuteTime": {
     "end_time": "2022-08-29T16:57:52.372231Z",
     "start_time": "2022-08-29T16:57:52.369876Z"
    }
   },
   "outputs": [
    {
     "data": {
      "text/plain": [
       "<re.Match object; span=(1, 2), match='a'>"
      ]
     },
     "execution_count": 91,
     "metadata": {},
     "output_type": "execute_result"
    }
   ],
   "source": [
    "# has a vowel, anywhere\n",
    "\n",
    "re.search(r\"a|e|i|o|u\", \"banana\", re.IGNORECASE)"
   ]
  },
  {
   "cell_type": "code",
   "execution_count": 92,
   "id": "82c4a682",
   "metadata": {
    "ExecuteTime": {
     "end_time": "2022-08-29T16:57:52.375591Z",
     "start_time": "2022-08-29T16:57:52.373001Z"
    }
   },
   "outputs": [
    {
     "data": {
      "text/plain": [
       "<re.Match object; span=(0, 1), match='a'>"
      ]
     },
     "execution_count": 92,
     "metadata": {},
     "output_type": "execute_result"
    }
   ],
   "source": [
    "# Is only a single vowel\n",
    "\n",
    "re.search(r\"^[aeiou]{1}$\", \"a\", re.IGNORECASE)"
   ]
  },
  {
   "cell_type": "code",
   "execution_count": 93,
   "id": "8da31325",
   "metadata": {
    "ExecuteTime": {
     "end_time": "2022-08-29T16:57:52.378246Z",
     "start_time": "2022-08-29T16:57:52.376290Z"
    }
   },
   "outputs": [],
   "source": [
    "# is only a single vowel\n",
    "re.search(r\"^[aeiou]{1}$\", \"ae\", re.IGNORECASE)"
   ]
  },
  {
   "cell_type": "code",
   "execution_count": 94,
   "id": "20a89121",
   "metadata": {
    "ExecuteTime": {
     "end_time": "2022-08-29T16:57:52.381076Z",
     "start_time": "2022-08-29T16:57:52.379002Z"
    }
   },
   "outputs": [
    {
     "data": {
      "text/plain": [
       "<re.Match object; span=(0, 7), match='aaeeeaa'>"
      ]
     },
     "execution_count": 94,
     "metadata": {},
     "output_type": "execute_result"
    }
   ],
   "source": [
    "# is only vowels\n",
    "re.search(r\"^[aeiou]*$\", \"aaeeeaa\")"
   ]
  },
  {
   "cell_type": "code",
   "execution_count": 95,
   "id": "f9c8080d",
   "metadata": {
    "ExecuteTime": {
     "end_time": "2022-08-29T16:57:52.384248Z",
     "start_time": "2022-08-29T16:57:52.381831Z"
    }
   },
   "outputs": [
    {
     "data": {
      "text/plain": [
       "<re.Match object; span=(4, 5), match='q'>"
      ]
     },
     "execution_count": 95,
     "metadata": {},
     "output_type": "execute_result"
    }
   ],
   "source": [
    "# has a p or q, anywhere\n",
    "re.search(r\"p|q\", \"albuquerque\", re.IGNORECASE)"
   ]
  },
  {
   "cell_type": "code",
   "execution_count": 96,
   "id": "f6bc7a67",
   "metadata": {
    "ExecuteTime": {
     "end_time": "2022-08-29T16:57:52.387155Z",
     "start_time": "2022-08-29T16:57:52.385145Z"
    }
   },
   "outputs": [
    {
     "data": {
      "text/plain": [
       "<re.Match object; span=(4, 5), match='q'>"
      ]
     },
     "execution_count": 96,
     "metadata": {},
     "output_type": "execute_result"
    }
   ],
   "source": [
    "# has a p or q, anywhere\n",
    "re.search(r\"[pq]\", \"albuquerque\", re.IGNORECASE)"
   ]
  },
  {
   "cell_type": "code",
   "execution_count": 97,
   "id": "83c9d632",
   "metadata": {
    "ExecuteTime": {
     "end_time": "2022-08-29T16:57:52.389871Z",
     "start_time": "2022-08-29T16:57:52.387919Z"
    }
   },
   "outputs": [
    {
     "data": {
      "text/plain": [
       "<re.Match object; span=(0, 1), match='q'>"
      ]
     },
     "execution_count": 97,
     "metadata": {},
     "output_type": "execute_result"
    }
   ],
   "source": [
    "# is p or q\n",
    "re.search(r\"^[pq]{1}$\", \"q\", re.IGNORECASE)"
   ]
  },
  {
   "cell_type": "code",
   "execution_count": 98,
   "id": "6cd6f169",
   "metadata": {
    "ExecuteTime": {
     "end_time": "2022-08-29T16:57:52.393272Z",
     "start_time": "2022-08-29T16:57:52.391333Z"
    }
   },
   "outputs": [
    {
     "data": {
      "text/plain": [
       "<re.Match object; span=(0, 17), match='pqpqpqpPQQQQQQQQp'>"
      ]
     },
     "execution_count": 98,
     "metadata": {},
     "output_type": "execute_result"
    }
   ],
   "source": [
    "# is only Ps and Qs\n",
    "re.search(r\"^[pqPQ]*$\", \"pqpqpqpPQQQQQQQQp\")"
   ]
  },
  {
   "cell_type": "code",
   "execution_count": 99,
   "id": "111cc9f3",
   "metadata": {
    "ExecuteTime": {
     "end_time": "2022-08-29T16:57:52.395631Z",
     "start_time": "2022-08-29T16:57:52.394135Z"
    }
   },
   "outputs": [],
   "source": [
    "re.search(r\"^[pq]*$\", \"b3qwpeop\")"
   ]
  },
  {
   "cell_type": "code",
   "execution_count": 100,
   "id": "b44277a2",
   "metadata": {
    "ExecuteTime": {
     "end_time": "2022-08-29T16:57:52.398770Z",
     "start_time": "2022-08-29T16:57:52.396282Z"
    }
   },
   "outputs": [
    {
     "data": {
      "text/plain": [
       "['civil blood', 'civil hands']"
      ]
     },
     "execution_count": 100,
     "metadata": {},
     "output_type": "execute_result"
    }
   ],
   "source": [
    "string = \"Two households, both alike in dignity, In fair Verona, where we lay our scene, From ancient grudge break to new mutiny, Where civil blood makes civil hands unclean.\"\n",
    "string\n",
    "\n",
    "# find all the occurences of civil followed by the word immediately after \"civil\"\n",
    "re.findall(r\"civil\\s[a-z]+\", string)\n"
   ]
  },
  {
   "cell_type": "markdown",
   "id": "b345d70f",
   "metadata": {},
   "source": [
    "## Repetition characters and Special Sequences\n",
    "> Walk before you run\n",
    "\n",
    "- `.` means any single character\n",
    "- `*` means zero or more characters\n",
    "- `+` means one or more characters\n",
    "- `.` matches any character\n",
    "- `\\b` is a word boundary anchor\n",
    "- `\\d` matches any decimal. Is equivalent to `[0-9]`\n",
    "- `\\D` matches any non-digit character and is equivalent to `[^0-9]`. \n",
    "- `\\s` matches any white space like ` `, tab, soft return, new line etc...\n",
    "- `\\w` matches any alphanumeric character and underscore. Equivalent to `[0-9a-zA-Z_]`\n",
    "- `\\W` matches any non-alphanumeric character. Equivalent to `[^a-zA-Z0-9_]`\n",
    "- `{n)` exactly n characters\n",
    "- `{n,}` n or more characters\n",
    "- `{n, m}` n to m times"
   ]
  },
  {
   "cell_type": "code",
   "execution_count": 101,
   "id": "468da022",
   "metadata": {
    "ExecuteTime": {
     "end_time": "2022-08-29T16:57:52.401858Z",
     "start_time": "2022-08-29T16:57:52.399881Z"
    }
   },
   "outputs": [
    {
     "data": {
      "text/plain": [
       "<re.Match object; span=(4, 6), match='ou'>"
      ]
     },
     "execution_count": 101,
     "metadata": {},
     "output_type": "execute_result"
    }
   ],
   "source": [
    "# world w/o \\b word boundary\n",
    "re.search(r\"o\\w+\", \"do you like apples or oranges?\")"
   ]
  },
  {
   "cell_type": "code",
   "execution_count": 102,
   "id": "264002e1",
   "metadata": {
    "ExecuteTime": {
     "end_time": "2022-08-29T16:57:52.404541Z",
     "start_time": "2022-08-29T16:57:52.402593Z"
    }
   },
   "outputs": [
    {
     "data": {
      "text/plain": [
       "<re.Match object; span=(19, 21), match='or'>"
      ]
     },
     "execution_count": 102,
     "metadata": {},
     "output_type": "execute_result"
    }
   ],
   "source": [
    "# \\b means word boundary\n",
    "# any word that starts with o\n",
    "re.search(r\"\\bo\\w+\", \"do you like apples or oranges?\")"
   ]
  },
  {
   "cell_type": "code",
   "execution_count": 103,
   "id": "54d4bf68",
   "metadata": {
    "ExecuteTime": {
     "end_time": "2022-08-29T16:57:52.407304Z",
     "start_time": "2022-08-29T16:57:52.405391Z"
    }
   },
   "outputs": [
    {
     "data": {
      "text/plain": [
       "['or', 'oranges']"
      ]
     },
     "execution_count": 103,
     "metadata": {},
     "output_type": "execute_result"
    }
   ],
   "source": [
    "# \\b means word boundary\n",
    "# any word that starts with o\n",
    "re.findall(r\"\\bo\\w+\", \"do you like apples or oranges?\")"
   ]
  },
  {
   "cell_type": "code",
   "execution_count": 104,
   "id": "3eb3f4cf",
   "metadata": {
    "ExecuteTime": {
     "end_time": "2022-08-29T16:57:52.410066Z",
     "start_time": "2022-08-29T16:57:52.408099Z"
    }
   },
   "outputs": [
    {
     "data": {
      "text/plain": [
       "['ou', 'or', 'oranges']"
      ]
     },
     "execution_count": 104,
     "metadata": {},
     "output_type": "execute_result"
    }
   ],
   "source": [
    "# \\b means word boundary\n",
    "# any word that starts with o\n",
    "# without the word boundary, we get the \"ou\" from \"you\"\n",
    "re.findall(r\"o\\w+\", \"do you like apples or oranges?\")"
   ]
  },
  {
   "cell_type": "code",
   "execution_count": 105,
   "id": "8a541d17",
   "metadata": {
    "ExecuteTime": {
     "end_time": "2022-08-29T16:57:52.412818Z",
     "start_time": "2022-08-29T16:57:52.410817Z"
    }
   },
   "outputs": [
    {
     "data": {
      "text/plain": [
       "['or', 'oranges']"
      ]
     },
     "execution_count": 105,
     "metadata": {},
     "output_type": "execute_result"
    }
   ],
   "source": [
    "# \\b means word boundary\n",
    "# any word that starts with o\n",
    "re.findall(r\"\\bo\\w+\", \"do you like apples or oranges?\")"
   ]
  },
  {
   "cell_type": "markdown",
   "id": "2f162b03",
   "metadata": {},
   "source": [
    "## Groups"
   ]
  },
  {
   "cell_type": "code",
   "execution_count": 106,
   "id": "cfcf953d",
   "metadata": {
    "ExecuteTime": {
     "end_time": "2022-08-29T16:57:52.416267Z",
     "start_time": "2022-08-29T16:57:52.413591Z"
    }
   },
   "outputs": [
    {
     "data": {
      "text/plain": [
       "'You can find us on the web at https://codeup.com. Our ip address is 123.123.123.123 (maybe).'"
      ]
     },
     "execution_count": 106,
     "metadata": {},
     "output_type": "execute_result"
    }
   ],
   "source": [
    "sentence = '''\n",
    "You can find us on the web at https://codeup.com. Our ip address is 123.123.123.123 (maybe).\n",
    "'''.strip()\n",
    "sentence"
   ]
  },
  {
   "cell_type": "code",
   "execution_count": 107,
   "id": "dbadbaa0",
   "metadata": {
    "ExecuteTime": {
     "end_time": "2022-08-29T16:57:52.419218Z",
     "start_time": "2022-08-29T16:57:52.417158Z"
    }
   },
   "outputs": [
    {
     "data": {
      "text/plain": [
       "'123.123.123.123'"
      ]
     },
     "execution_count": 107,
     "metadata": {},
     "output_type": "execute_result"
    }
   ],
   "source": [
    "ip_re = r'\\d+(\\.\\d+){3}'\n",
    "\n",
    "match = re.search(ip_re, sentence)\n",
    "match[0]"
   ]
  },
  {
   "cell_type": "code",
   "execution_count": 108,
   "id": "24f63b18",
   "metadata": {
    "ExecuteTime": {
     "end_time": "2022-08-29T16:57:52.422391Z",
     "start_time": "2022-08-29T16:57:52.420074Z"
    }
   },
   "outputs": [
    {
     "name": "stdout",
     "output_type": "stream",
     "text": [
      "\n",
      "protocol: https\n",
      "domain:   codeup\n",
      "tld:      com\n",
      "\n"
     ]
    }
   ],
   "source": [
    "# simplified for demonstration, a real url to parse urls would be much more\n",
    "# complex\n",
    "url_re = r'(https?)://(\\w+)\\.(\\w+)'\n",
    "\n",
    "protocol, domain, tld = re.search(url_re, sentence).groups()\n",
    "\n",
    "print(f'''\n",
    "protocol: {protocol}\n",
    "domain:   {domain}\n",
    "tld:      {tld}\n",
    "''')"
   ]
  },
  {
   "cell_type": "code",
   "execution_count": 109,
   "id": "d1767cbd",
   "metadata": {
    "ExecuteTime": {
     "end_time": "2022-08-29T16:57:52.425135Z",
     "start_time": "2022-08-29T16:57:52.423266Z"
    }
   },
   "outputs": [
    {
     "data": {
      "text/plain": [
       "('https', 'codeup', 'com')"
      ]
     },
     "execution_count": 109,
     "metadata": {},
     "output_type": "execute_result"
    }
   ],
   "source": [
    "re.search(url_re, sentence).groups()"
   ]
  },
  {
   "cell_type": "code",
   "execution_count": 110,
   "id": "a47a6c59",
   "metadata": {
    "ExecuteTime": {
     "end_time": "2022-08-29T16:57:52.427425Z",
     "start_time": "2022-08-29T16:57:52.425971Z"
    }
   },
   "outputs": [],
   "source": [
    "url_re = r'(?P<protocol>https?)://(?P<domain>\\w+)\\.(?P<tld>\\w+)'\n",
    "\n",
    "match = re.search(url_re, sentence)\n"
   ]
  },
  {
   "cell_type": "code",
   "execution_count": 111,
   "id": "0f89e89a",
   "metadata": {
    "ExecuteTime": {
     "end_time": "2022-08-29T16:57:52.430210Z",
     "start_time": "2022-08-29T16:57:52.428281Z"
    }
   },
   "outputs": [
    {
     "data": {
      "text/plain": [
       "('https', 'codeup', 'com')"
      ]
     },
     "execution_count": 111,
     "metadata": {},
     "output_type": "execute_result"
    }
   ],
   "source": [
    "match.groups()"
   ]
  },
  {
   "cell_type": "code",
   "execution_count": 112,
   "id": "905d5d55",
   "metadata": {
    "ExecuteTime": {
     "end_time": "2022-08-29T16:57:52.433031Z",
     "start_time": "2022-08-29T16:57:52.430997Z"
    }
   },
   "outputs": [
    {
     "data": {
      "text/plain": [
       "'codeup'"
      ]
     },
     "execution_count": 112,
     "metadata": {},
     "output_type": "execute_result"
    }
   ],
   "source": [
    "match.group(\"domain\")"
   ]
  },
  {
   "cell_type": "code",
   "execution_count": 113,
   "id": "1562d114",
   "metadata": {
    "ExecuteTime": {
     "end_time": "2022-08-29T16:57:52.435677Z",
     "start_time": "2022-08-29T16:57:52.433902Z"
    }
   },
   "outputs": [
    {
     "data": {
      "text/plain": [
       "'com'"
      ]
     },
     "execution_count": 113,
     "metadata": {},
     "output_type": "execute_result"
    }
   ],
   "source": [
    "match.group(\"tld\")"
   ]
  },
  {
   "cell_type": "code",
   "execution_count": 114,
   "id": "36c4ed51",
   "metadata": {
    "ExecuteTime": {
     "end_time": "2022-08-29T16:57:52.438517Z",
     "start_time": "2022-08-29T16:57:52.436486Z"
    }
   },
   "outputs": [
    {
     "data": {
      "text/plain": [
       "{'protocol': 'https', 'domain': 'codeup', 'tld': 'com'}"
      ]
     },
     "execution_count": 114,
     "metadata": {},
     "output_type": "execute_result"
    }
   ],
   "source": [
    "match.groupdict()"
   ]
  },
  {
   "cell_type": "code",
   "execution_count": 115,
   "id": "bdf206b7",
   "metadata": {
    "ExecuteTime": {
     "end_time": "2022-08-29T16:57:52.441092Z",
     "start_time": "2022-08-29T16:57:52.439502Z"
    }
   },
   "outputs": [
    {
     "name": "stdout",
     "output_type": "stream",
     "text": [
      "\n",
      "groups: ('https', 'codeup', 'com')\n",
      "referencing a group by name: com\n",
      "group dictionary: {'protocol': 'https', 'domain': 'codeup', 'tld': 'com'}\n",
      "\n"
     ]
    }
   ],
   "source": [
    "print(f'''\n",
    "groups: {match.groups()}\n",
    "referencing a group by name: {match.group('tld')}\n",
    "group dictionary: {match.groupdict()}\n",
    "''')"
   ]
  },
  {
   "cell_type": "markdown",
   "id": "5cced33b",
   "metadata": {},
   "source": [
    "## A Reflection on Captured Groups\n",
    "- After matching the first group or two, the need to be _highly_ specific with subsequent groups (unless there is ambiguity in the forms in the source text) likely starts to decrease. \n",
    "- For example, matching an abitrary user agent string in on its own might prove challenging. Specific user agents even more so https://jonlabelle.com/snippets/view/yaml/browser-user-agent-regular-expressions. But if that arbitrary user agent string lives in a line inside a log where to the left we've already matched a group for the method type GET|POST, and the timestamp, then matching any specific user agent string with the cleanest regex ever isn't as necessary, probabilistically, as matching any string up until but not including the bytes transmitted group to its right.\n",
    "- We can sometimes rely on the regularness of forms, especially with multiple captured groups in order to capture much more challenging patterns in the middle of other more easily discerned pattern groups."
   ]
  },
  {
   "cell_type": "code",
   "execution_count": 116,
   "id": "e9ae04ef",
   "metadata": {
    "ExecuteTime": {
     "end_time": "2022-08-29T16:57:52.443797Z",
     "start_time": "2022-08-29T16:57:52.442011Z"
    }
   },
   "outputs": [
    {
     "name": "stdout",
     "output_type": "stream",
     "text": [
      "\n",
      "GET /api/v1/sales?page=86 [16/Apr/2019:193452+0000] HTTP/1.1 {200} 510348 \"python-requests/2.21.0\" 97.105.19.58\n",
      "POST /users_accounts/file-upload [16/Apr/2019:193452+0000] HTTP/1.1 {201} 42 \"User-Agent: Mozilla/5.0 (X11; Fedora; Fedora; Linux x86_64) AppleWebKit/537.36 (KHTML, like Gecko) Chrome/73.0.3683.86 Safari/537.36\" 97.105.19.58\n",
      "GET /api/v1/items?page=3 [16/Apr/2019:193453+0000] HTTP/1.1 {429} 3561 \"python-requests/2.21.0\" 97.105.19.58\n",
      "\n"
     ]
    }
   ],
   "source": [
    "# Consider the following lines in a log\n",
    "logs = \"\"\"\n",
    "GET /api/v1/sales?page=86 [16/Apr/2019:193452+0000] HTTP/1.1 {200} 510348 \"python-requests/2.21.0\" 97.105.19.58\n",
    "POST /users_accounts/file-upload [16/Apr/2019:193452+0000] HTTP/1.1 {201} 42 \"User-Agent: Mozilla/5.0 (X11; Fedora; Fedora; Linux x86_64) AppleWebKit/537.36 (KHTML, like Gecko) Chrome/73.0.3683.86 Safari/537.36\" 97.105.19.58\n",
    "GET /api/v1/items?page=3 [16/Apr/2019:193453+0000] HTTP/1.1 {429} 3561 \"python-requests/2.21.0\" 97.105.19.58\n",
    "\"\"\"\n",
    "print(logs)"
   ]
  },
  {
   "cell_type": "code",
   "execution_count": 117,
   "id": "cca802b8",
   "metadata": {
    "ExecuteTime": {
     "end_time": "2022-08-29T16:57:52.446072Z",
     "start_time": "2022-08-29T16:57:52.444667Z"
    }
   },
   "outputs": [],
   "source": [
    "emails = [\n",
    "    \"jane@company.com\",\n",
    "    \"bob@company.com\",\n",
    "    \"jane.janeway@company.com\",\n",
    "    \"jane.janeway@dogood.org\",\n",
    "#     \"jane.janet.janeway@dogood.org\",\n",
    "#     \"jane.janeway@ang.af.mil\",\n",
    "]"
   ]
  },
  {
   "cell_type": "code",
   "execution_count": 118,
   "id": "4236488b",
   "metadata": {
    "ExecuteTime": {
     "end_time": "2022-08-29T16:57:52.448716Z",
     "start_time": "2022-08-29T16:57:52.447036Z"
    }
   },
   "outputs": [],
   "source": [
    "pattern = re.compile(r\"\"\"\n",
    "(?P<first_name>\\w+)?\n",
    "\\.?\n",
    "(?P<last_name>\\w+)?\n",
    "\\@\n",
    "(?P<domain>\\w+)\n",
    "\\.\n",
    "(?P<tld>\\w+)\n",
    "\"\"\", re.VERBOSE)"
   ]
  },
  {
   "cell_type": "code",
   "execution_count": 119,
   "id": "5ed7172d",
   "metadata": {
    "ExecuteTime": {
     "end_time": "2022-08-29T16:57:52.452291Z",
     "start_time": "2022-08-29T16:57:52.449477Z"
    }
   },
   "outputs": [
    {
     "data": {
      "text/plain": [
       "[{'first_name': 'jane', 'last_name': None, 'domain': 'company', 'tld': 'com'},\n",
       " {'first_name': 'bob', 'last_name': None, 'domain': 'company', 'tld': 'com'},\n",
       " {'first_name': 'jane',\n",
       "  'last_name': 'janeway',\n",
       "  'domain': 'company',\n",
       "  'tld': 'com'},\n",
       " {'first_name': 'jane',\n",
       "  'last_name': 'janeway',\n",
       "  'domain': 'dogood',\n",
       "  'tld': 'org'}]"
      ]
     },
     "execution_count": 119,
     "metadata": {},
     "output_type": "execute_result"
    }
   ],
   "source": [
    "[re.search(pattern, email).groupdict() for email in emails]"
   ]
  },
  {
   "cell_type": "code",
   "execution_count": null,
   "id": "146df5a9",
   "metadata": {},
   "outputs": [],
   "source": []
  }
 ],
 "metadata": {
  "kernelspec": {
   "display_name": "Python 3 (ipykernel)",
   "language": "python",
   "name": "python3"
  },
  "language_info": {
   "codemirror_mode": {
    "name": "ipython",
    "version": 3
   },
   "file_extension": ".py",
   "mimetype": "text/x-python",
   "name": "python",
   "nbconvert_exporter": "python",
   "pygments_lexer": "ipython3",
   "version": "3.9.13"
  }
 },
 "nbformat": 4,
 "nbformat_minor": 5
}
