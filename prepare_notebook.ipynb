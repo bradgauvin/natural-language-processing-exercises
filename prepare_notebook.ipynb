{
 "cells": [
  {
   "cell_type": "code",
   "execution_count": 1,
   "id": "53930ff4",
   "metadata": {
    "ExecuteTime": {
     "end_time": "2022-08-31T14:02:52.581318Z",
     "start_time": "2022-08-31T14:02:51.698798Z"
    }
   },
   "outputs": [],
   "source": [
    "import unicodedata\n",
    "import re\n",
    "import json\n",
    "\n",
    "import nltk\n",
    "from nltk.tokenize.toktok import ToktokTokenizer\n",
    "from nltk.corpus import stopwords\n",
    "\n",
    "import pandas as pd\n",
    "\n",
    "import acquire\n",
    "import prepare"
   ]
  },
  {
   "cell_type": "code",
   "execution_count": 2,
   "id": "5ef88312",
   "metadata": {
    "ExecuteTime": {
     "end_time": "2022-08-31T14:02:52.583879Z",
     "start_time": "2022-08-31T14:02:52.582376Z"
    }
   },
   "outputs": [],
   "source": [
    "import nltk"
   ]
  },
  {
   "cell_type": "code",
   "execution_count": 3,
   "id": "0c4f05ad",
   "metadata": {
    "ExecuteTime": {
     "end_time": "2022-08-31T14:02:52.652901Z",
     "start_time": "2022-08-31T14:02:52.584539Z"
    }
   },
   "outputs": [
    {
     "name": "stderr",
     "output_type": "stream",
     "text": [
      "[nltk_data] Downloading package stopwords to\n",
      "[nltk_data]     /Users/bradleygauvin/nltk_data...\n",
      "[nltk_data]   Package stopwords is already up-to-date!\n"
     ]
    },
    {
     "data": {
      "text/plain": [
       "True"
      ]
     },
     "execution_count": 3,
     "metadata": {},
     "output_type": "execute_result"
    }
   ],
   "source": [
    "nltk.download('stopwords')"
   ]
  },
  {
   "cell_type": "code",
   "execution_count": 4,
   "id": "a126f9f8",
   "metadata": {
    "ExecuteTime": {
     "end_time": "2022-08-31T14:02:52.706758Z",
     "start_time": "2022-08-31T14:02:52.654176Z"
    }
   },
   "outputs": [
    {
     "name": "stderr",
     "output_type": "stream",
     "text": [
      "[nltk_data] Downloading package wordnet to\n",
      "[nltk_data]     /Users/bradleygauvin/nltk_data...\n",
      "[nltk_data]   Package wordnet is already up-to-date!\n"
     ]
    },
    {
     "data": {
      "text/plain": [
       "True"
      ]
     },
     "execution_count": 4,
     "metadata": {},
     "output_type": "execute_result"
    }
   ],
   "source": [
    "nltk.download('wordnet')"
   ]
  },
  {
   "cell_type": "code",
   "execution_count": 5,
   "id": "8fd0d889",
   "metadata": {
    "ExecuteTime": {
     "end_time": "2022-08-31T14:02:52.787845Z",
     "start_time": "2022-08-31T14:02:52.707552Z"
    }
   },
   "outputs": [
    {
     "name": "stderr",
     "output_type": "stream",
     "text": [
      "[nltk_data] Downloading package omw-1.4 to\n",
      "[nltk_data]     /Users/bradleygauvin/nltk_data...\n",
      "[nltk_data]   Package omw-1.4 is already up-to-date!\n"
     ]
    },
    {
     "data": {
      "text/plain": [
       "True"
      ]
     },
     "execution_count": 5,
     "metadata": {},
     "output_type": "execute_result"
    }
   ],
   "source": [
    "nltk.download('omw-1.4')"
   ]
  },
  {
   "cell_type": "code",
   "execution_count": 6,
   "id": "c2f292b4",
   "metadata": {
    "ExecuteTime": {
     "end_time": "2022-08-31T14:02:52.792929Z",
     "start_time": "2022-08-31T14:02:52.788729Z"
    }
   },
   "outputs": [
    {
     "data": {
      "text/plain": [
       "['i',\n",
       " 'me',\n",
       " 'my',\n",
       " 'myself',\n",
       " 'we',\n",
       " 'our',\n",
       " 'ours',\n",
       " 'ourselves',\n",
       " 'you',\n",
       " \"you're\",\n",
       " \"you've\",\n",
       " \"you'll\",\n",
       " \"you'd\",\n",
       " 'your',\n",
       " 'yours',\n",
       " 'yourself',\n",
       " 'yourselves',\n",
       " 'he',\n",
       " 'him',\n",
       " 'his',\n",
       " 'himself',\n",
       " 'she',\n",
       " \"she's\",\n",
       " 'her',\n",
       " 'hers',\n",
       " 'herself',\n",
       " 'it',\n",
       " \"it's\",\n",
       " 'its',\n",
       " 'itself',\n",
       " 'they',\n",
       " 'them',\n",
       " 'their',\n",
       " 'theirs',\n",
       " 'themselves',\n",
       " 'what',\n",
       " 'which',\n",
       " 'who',\n",
       " 'whom',\n",
       " 'this',\n",
       " 'that',\n",
       " \"that'll\",\n",
       " 'these',\n",
       " 'those',\n",
       " 'am',\n",
       " 'is',\n",
       " 'are',\n",
       " 'was',\n",
       " 'were',\n",
       " 'be',\n",
       " 'been',\n",
       " 'being',\n",
       " 'have',\n",
       " 'has',\n",
       " 'had',\n",
       " 'having',\n",
       " 'do',\n",
       " 'does',\n",
       " 'did',\n",
       " 'doing',\n",
       " 'a',\n",
       " 'an',\n",
       " 'the',\n",
       " 'and',\n",
       " 'but',\n",
       " 'if',\n",
       " 'or',\n",
       " 'because',\n",
       " 'as',\n",
       " 'until',\n",
       " 'while',\n",
       " 'of',\n",
       " 'at',\n",
       " 'by',\n",
       " 'for',\n",
       " 'with',\n",
       " 'about',\n",
       " 'against',\n",
       " 'between',\n",
       " 'into',\n",
       " 'through',\n",
       " 'during',\n",
       " 'before',\n",
       " 'after',\n",
       " 'above',\n",
       " 'below',\n",
       " 'to',\n",
       " 'from',\n",
       " 'up',\n",
       " 'down',\n",
       " 'in',\n",
       " 'out',\n",
       " 'on',\n",
       " 'off',\n",
       " 'over',\n",
       " 'under',\n",
       " 'again',\n",
       " 'further',\n",
       " 'then',\n",
       " 'once',\n",
       " 'here',\n",
       " 'there',\n",
       " 'when',\n",
       " 'where',\n",
       " 'why',\n",
       " 'how',\n",
       " 'all',\n",
       " 'any',\n",
       " 'both',\n",
       " 'each',\n",
       " 'few',\n",
       " 'more',\n",
       " 'most',\n",
       " 'other',\n",
       " 'some',\n",
       " 'such',\n",
       " 'no',\n",
       " 'nor',\n",
       " 'not',\n",
       " 'only',\n",
       " 'own',\n",
       " 'same',\n",
       " 'so',\n",
       " 'than',\n",
       " 'too',\n",
       " 'very',\n",
       " 's',\n",
       " 't',\n",
       " 'can',\n",
       " 'will',\n",
       " 'just',\n",
       " 'don',\n",
       " \"don't\",\n",
       " 'should',\n",
       " \"should've\",\n",
       " 'now',\n",
       " 'd',\n",
       " 'll',\n",
       " 'm',\n",
       " 'o',\n",
       " 're',\n",
       " 've',\n",
       " 'y',\n",
       " 'ain',\n",
       " 'aren',\n",
       " \"aren't\",\n",
       " 'couldn',\n",
       " \"couldn't\",\n",
       " 'didn',\n",
       " \"didn't\",\n",
       " 'doesn',\n",
       " \"doesn't\",\n",
       " 'hadn',\n",
       " \"hadn't\",\n",
       " 'hasn',\n",
       " \"hasn't\",\n",
       " 'haven',\n",
       " \"haven't\",\n",
       " 'isn',\n",
       " \"isn't\",\n",
       " 'ma',\n",
       " 'mightn',\n",
       " \"mightn't\",\n",
       " 'mustn',\n",
       " \"mustn't\",\n",
       " 'needn',\n",
       " \"needn't\",\n",
       " 'shan',\n",
       " \"shan't\",\n",
       " 'shouldn',\n",
       " \"shouldn't\",\n",
       " 'wasn',\n",
       " \"wasn't\",\n",
       " 'weren',\n",
       " \"weren't\",\n",
       " 'won',\n",
       " \"won't\",\n",
       " 'wouldn',\n",
       " \"wouldn't\"]"
      ]
     },
     "execution_count": 6,
     "metadata": {},
     "output_type": "execute_result"
    }
   ],
   "source": [
    "nltk.corpus.stopwords.words('english')"
   ]
  },
  {
   "cell_type": "code",
   "execution_count": 7,
   "id": "4f452468",
   "metadata": {
    "ExecuteTime": {
     "end_time": "2022-08-31T14:02:52.795665Z",
     "start_time": "2022-08-31T14:02:52.793662Z"
    }
   },
   "outputs": [],
   "source": [
    "headers = {'User-Agent': 'Codeup Data Science - Kalpana'}\n",
    "urls = ['https://codeup.com/data-science/jobs-after-a-coding-bootcamp-part-1-data-science/',\n",
    "        'https://codeup.com/data-science/math-in-data-science/',\n",
    "        'https://codeup.com/data-science/transition-into-data-science/',\n",
    "        'https://codeup.com/data-science/data-science-career/',\n",
    "        'https://codeup.com/data-science/data-science-without-a-degree/']\n",
    "topics = [\"business\",\"sports\",\"technology\",\"entertainment\"]"
   ]
  },
  {
   "cell_type": "code",
   "execution_count": 8,
   "id": "ea6b73b7",
   "metadata": {
    "ExecuteTime": {
     "end_time": "2022-08-31T14:02:55.019782Z",
     "start_time": "2022-08-31T14:02:52.796401Z"
    }
   },
   "outputs": [],
   "source": [
    "blogs = acquire.get_blogs(urls,headers)\n",
    "\n",
    "articles = acquire.get_news(topics,headers)"
   ]
  },
  {
   "cell_type": "markdown",
   "id": "e704405b",
   "metadata": {},
   "source": [
    "1. Define a function named basic_clean. It should take in a string and apply some basic text cleaning to it:\n",
    "    - Lowercase everything\n",
    "    - Normalize unicode characters\n",
    "    - Replace anything that is not a letter, number, whitespace or a single quote.\n",
    "2. Define a function named tokenize. It should take in a string and tokenize all the words in the string.\n",
    "3. Define a function named stem. It should accept some text and return the text after applying stemming to all the words.\n",
    "4. Define a function named lemmatize. It should accept some text and return the text after applying lemmatization to each word.\n",
    "5. Define a function named remove_stopwords. It should accept some text and return the text after removing all the stopwords."
   ]
  },
  {
   "cell_type": "code",
   "execution_count": 13,
   "id": "6d2faba7",
   "metadata": {
    "ExecuteTime": {
     "end_time": "2022-08-31T16:05:06.146408Z",
     "start_time": "2022-08-31T16:05:06.087407Z"
    }
   },
   "outputs": [],
   "source": [
    "def basic_clean(article:str):\n",
    "    \"\"\" Performs basic cleaning of text string, article, by switching all letters to lowecase, normalizing unicode characters, \n",
    "    and replacing everything that is not a letter, number, whitespace, or single quote.\"\"\"\n",
    "    # Convert text to lowercase\n",
    "    article = article.lower()\n",
    "    \n",
    "    # Remove accented characteries. Normalize removes inconsistencies in unicode character encoding.\n",
    "    # Encode converts string to ASCII and decode returns the bytes into string.\n",
    "    article = unicodedata.normalize('NFKD', article)    .encode('ascii', 'ignore')    .decode('utf-8', 'ignore')\n",
    "\n",
    "    # remove anything that is not a through z, a number, a single quote, or whitespace\n",
    "    article = re.sub(r\"[^a-z0-9'\\s]\", '', article)\n",
    "    \n",
    "    return article\n",
    "\n",
    "def tokenize(article:str):\n",
    "    \"\"\" Takes in a string, article, and tokenizes all words \"\"\"\n",
    "    \n",
    "    tokenizer = nltk.tokenize.ToktokTokenizer()\n",
    "\n",
    "    return tokenizer.tokenize(article, return_str=True)\n",
    "\n",
    "def stem(article: str):\n",
    "    \"\"\" Takes in a string, article, and returns text after applying stemming using Porter method \"\"\"\n",
    "    \n",
    "    ps = nltk.porter.PorterStemmer()\n",
    "\n",
    "    stems = [ps.stem(word) for word in article.split()]\n",
    "    article_stemmed = ' '.join(stems)\n",
    "    \n",
    "    return article_stemmed\n",
    "\n",
    "def lemmatize(article: str):\n",
    "    \"\"\" Accepts string as argument, article, and returns text after applying lemmatization to each word \"\"\"\n",
    "    \n",
    "    wnl = nltk.stem.WordNetLemmatizer()\n",
    "        \n",
    "    lemmas = [wnl.lemmatize(word) for word in article.split()]\n",
    "    article_lemmatized = ' '.join(lemmas)\n",
    "\n",
    "    return article_lemmatized\n",
    "\n",
    "def remove_stopwords(article: str, extra_words: list, exclude_words: list):\n",
    "    \"\"\" Accepts string (article) as argument and returns text after removing all the stopwords.\n",
    "    extra_words: any additional stop words to include (these words will be removed from the article)\n",
    "    exclude_words: any words we do not want to remove. These words are removed from the stopwords list and will remain in article \"\"\"\n",
    "    \n",
    "    stopword_list = stopwords.words('english')\n",
    "\n",
    "    [stopword_list.append(word_to_add) for word_to_add in extra_words if word_to_add not in stopword_list]\n",
    "    [stopword_list.remove(to_remove) for to_remove in exclude_words if to_remove in stopword_list]\n",
    "\n",
    "    words = article.split()\n",
    "    filtered_words = [w for w in words if w not in stopword_list]\n",
    "\n",
    "    # print('Removed {} stopwords'.format(len(words) - len(filtered_words)))\n",
    "\n",
    "    article_without_stopwords = ' '.join(filtered_words)\n",
    "    \n",
    "    return article_without_stopwords"
   ]
  },
  {
   "cell_type": "code",
   "execution_count": 9,
   "id": "b12b302d",
   "metadata": {
    "ExecuteTime": {
     "end_time": "2022-08-31T14:02:55.025986Z",
     "start_time": "2022-08-31T14:02:55.020745Z"
    },
    "scrolled": true
   },
   "outputs": [
    {
     "data": {
      "text/html": [
       "<div>\n",
       "<style scoped>\n",
       "    .dataframe tbody tr th:only-of-type {\n",
       "        vertical-align: middle;\n",
       "    }\n",
       "\n",
       "    .dataframe tbody tr th {\n",
       "        vertical-align: top;\n",
       "    }\n",
       "\n",
       "    .dataframe thead th {\n",
       "        text-align: right;\n",
       "    }\n",
       "</style>\n",
       "<table border=\"1\" class=\"dataframe\">\n",
       "  <thead>\n",
       "    <tr style=\"text-align: right;\">\n",
       "      <th></th>\n",
       "      <th>url</th>\n",
       "      <th>title</th>\n",
       "      <th>content</th>\n",
       "    </tr>\n",
       "  </thead>\n",
       "  <tbody>\n",
       "    <tr>\n",
       "      <th>0</th>\n",
       "      <td>https://codeup.com/data-science/jobs-after-a-c...</td>\n",
       "      <td>What Jobs Can You Get After a Coding Bootcamp?</td>\n",
       "      <td>\\nIf you are interested in embarking on a care...</td>\n",
       "    </tr>\n",
       "    <tr>\n",
       "      <th>1</th>\n",
       "      <td>https://codeup.com/data-science/math-in-data-s...</td>\n",
       "      <td>What are the Math and Stats Principles You Nee...</td>\n",
       "      <td>\\nComing into our Data Science program, you wi...</td>\n",
       "    </tr>\n",
       "    <tr>\n",
       "      <th>2</th>\n",
       "      <td>https://codeup.com/data-science/transition-int...</td>\n",
       "      <td>What is the Transition into Data Science Like?...</td>\n",
       "      <td>\\nAlumni Katy Salts and Brandi Reger joined us...</td>\n",
       "    </tr>\n",
       "    <tr>\n",
       "      <th>3</th>\n",
       "      <td>https://codeup.com/data-science/data-science-c...</td>\n",
       "      <td>What Data Science Career is For You? - Codeup ...</td>\n",
       "      <td>\\nIf you’re struggling to see yourself as a da...</td>\n",
       "    </tr>\n",
       "    <tr>\n",
       "      <th>4</th>\n",
       "      <td>https://codeup.com/data-science/data-science-w...</td>\n",
       "      <td>From Slacker to Data Scientist: Journey to Dat...</td>\n",
       "      <td>\\nButterflies in my belly; my stomach is tied ...</td>\n",
       "    </tr>\n",
       "  </tbody>\n",
       "</table>\n",
       "</div>"
      ],
      "text/plain": [
       "                                                 url  \\\n",
       "0  https://codeup.com/data-science/jobs-after-a-c...   \n",
       "1  https://codeup.com/data-science/math-in-data-s...   \n",
       "2  https://codeup.com/data-science/transition-int...   \n",
       "3  https://codeup.com/data-science/data-science-c...   \n",
       "4  https://codeup.com/data-science/data-science-w...   \n",
       "\n",
       "                                               title  \\\n",
       "0     What Jobs Can You Get After a Coding Bootcamp?   \n",
       "1  What are the Math and Stats Principles You Nee...   \n",
       "2  What is the Transition into Data Science Like?...   \n",
       "3  What Data Science Career is For You? - Codeup ...   \n",
       "4  From Slacker to Data Scientist: Journey to Dat...   \n",
       "\n",
       "                                             content  \n",
       "0  \\nIf you are interested in embarking on a care...  \n",
       "1  \\nComing into our Data Science program, you wi...  \n",
       "2  \\nAlumni Katy Salts and Brandi Reger joined us...  \n",
       "3  \\nIf you’re struggling to see yourself as a da...  \n",
       "4  \\nButterflies in my belly; my stomach is tied ...  "
      ]
     },
     "execution_count": 9,
     "metadata": {},
     "output_type": "execute_result"
    }
   ],
   "source": [
    "blogs.head()"
   ]
  },
  {
   "cell_type": "code",
   "execution_count": 10,
   "id": "a71ddedd",
   "metadata": {
    "ExecuteTime": {
     "end_time": "2022-08-31T14:02:55.031270Z",
     "start_time": "2022-08-31T14:02:55.027953Z"
    }
   },
   "outputs": [
    {
     "data": {
      "text/html": [
       "<div>\n",
       "<style scoped>\n",
       "    .dataframe tbody tr th:only-of-type {\n",
       "        vertical-align: middle;\n",
       "    }\n",
       "\n",
       "    .dataframe tbody tr th {\n",
       "        vertical-align: top;\n",
       "    }\n",
       "\n",
       "    .dataframe thead th {\n",
       "        text-align: right;\n",
       "    }\n",
       "</style>\n",
       "<table border=\"1\" class=\"dataframe\">\n",
       "  <thead>\n",
       "    <tr style=\"text-align: right;\">\n",
       "      <th></th>\n",
       "      <th>title</th>\n",
       "      <th>content</th>\n",
       "      <th>category</th>\n",
       "    </tr>\n",
       "  </thead>\n",
       "  <tbody>\n",
       "    <tr>\n",
       "      <th>0</th>\n",
       "      <td>India's GDP grows at 13.5% in first quarter of...</td>\n",
       "      <td>India's GDP grew at 13.5% in the first quarter...</td>\n",
       "      <td>business</td>\n",
       "    </tr>\n",
       "    <tr>\n",
       "      <th>1</th>\n",
       "      <td>Musk cites whistleblower's claims in new notic...</td>\n",
       "      <td>Tesla CEO Elon Musk's legal team has filed ano...</td>\n",
       "      <td>business</td>\n",
       "    </tr>\n",
       "    <tr>\n",
       "      <th>2</th>\n",
       "      <td>Musk seeks to delay Twitter trial to Nov amid ...</td>\n",
       "      <td>Tesla CEO Elon Musk is seeking to delay the tr...</td>\n",
       "      <td>business</td>\n",
       "    </tr>\n",
       "    <tr>\n",
       "      <th>3</th>\n",
       "      <td>2 top executives at Snap quit hours after repo...</td>\n",
       "      <td>Two senior advertising executives at Snap quit...</td>\n",
       "      <td>business</td>\n",
       "    </tr>\n",
       "    <tr>\n",
       "      <th>4</th>\n",
       "      <td>Viral video shows Amazon parcels thrown out of...</td>\n",
       "      <td>A video from Guwahati railway station has gone...</td>\n",
       "      <td>business</td>\n",
       "    </tr>\n",
       "  </tbody>\n",
       "</table>\n",
       "</div>"
      ],
      "text/plain": [
       "                                               title  \\\n",
       "0  India's GDP grows at 13.5% in first quarter of...   \n",
       "1  Musk cites whistleblower's claims in new notic...   \n",
       "2  Musk seeks to delay Twitter trial to Nov amid ...   \n",
       "3  2 top executives at Snap quit hours after repo...   \n",
       "4  Viral video shows Amazon parcels thrown out of...   \n",
       "\n",
       "                                             content  category  \n",
       "0  India's GDP grew at 13.5% in the first quarter...  business  \n",
       "1  Tesla CEO Elon Musk's legal team has filed ano...  business  \n",
       "2  Tesla CEO Elon Musk is seeking to delay the tr...  business  \n",
       "3  Two senior advertising executives at Snap quit...  business  \n",
       "4  A video from Guwahati railway station has gone...  business  "
      ]
     },
     "execution_count": 10,
     "metadata": {},
     "output_type": "execute_result"
    }
   ],
   "source": [
    "articles.head()"
   ]
  },
  {
   "cell_type": "markdown",
   "id": "c22f4ba7",
   "metadata": {},
   "source": [
    "6. Use your data from the acquire to produce a dataframe of the news articles. Name the dataframe news_df."
   ]
  },
  {
   "cell_type": "code",
   "execution_count": 14,
   "id": "b697fce6",
   "metadata": {
    "ExecuteTime": {
     "end_time": "2022-08-31T16:10:04.936978Z",
     "start_time": "2022-08-31T16:10:04.631934Z"
    }
   },
   "outputs": [
    {
     "name": "stdout",
     "output_type": "stream",
     "text": [
      "Importing from csv\n"
     ]
    }
   ],
   "source": [
    "news_df = prepare.create_prepared_news_df()"
   ]
  },
  {
   "cell_type": "code",
   "execution_count": 15,
   "id": "2c0bb1f0",
   "metadata": {
    "ExecuteTime": {
     "end_time": "2022-08-31T16:12:27.603297Z",
     "start_time": "2022-08-31T16:12:27.589419Z"
    }
   },
   "outputs": [
    {
     "data": {
      "text/plain": [
       "'two senior advertising executive snap quit hour report emerged stating company planning cut 20 workforce earlier report verge citing source said snap planning lay 20 6400 employee reported weak q2 result'"
      ]
     },
     "execution_count": 15,
     "metadata": {},
     "output_type": "execute_result"
    }
   ],
   "source": [
    "news_df.lemmatized[3]"
   ]
  },
  {
   "cell_type": "code",
   "execution_count": 16,
   "id": "6e95435d",
   "metadata": {
    "ExecuteTime": {
     "end_time": "2022-08-31T16:12:48.313229Z",
     "start_time": "2022-08-31T16:12:48.278658Z"
    }
   },
   "outputs": [],
   "source": [
    "df = acquire.get_blog_articles(True)"
   ]
  },
  {
   "cell_type": "code",
   "execution_count": 17,
   "id": "3e4ddd1c",
   "metadata": {
    "ExecuteTime": {
     "end_time": "2022-08-31T16:13:10.071535Z",
     "start_time": "2022-08-31T16:13:10.052557Z"
    }
   },
   "outputs": [],
   "source": [
    "df = pd.DataFrame(df)"
   ]
  },
  {
   "cell_type": "code",
   "execution_count": 19,
   "id": "f503e30a",
   "metadata": {
    "ExecuteTime": {
     "end_time": "2022-08-31T16:13:25.294678Z",
     "start_time": "2022-08-31T16:13:25.279200Z"
    }
   },
   "outputs": [
    {
     "data": {
      "text/html": [
       "<div>\n",
       "<style scoped>\n",
       "    .dataframe tbody tr th:only-of-type {\n",
       "        vertical-align: middle;\n",
       "    }\n",
       "\n",
       "    .dataframe tbody tr th {\n",
       "        vertical-align: top;\n",
       "    }\n",
       "\n",
       "    .dataframe thead th {\n",
       "        text-align: right;\n",
       "    }\n",
       "</style>\n",
       "<table border=\"1\" class=\"dataframe\">\n",
       "  <thead>\n",
       "    <tr style=\"text-align: right;\">\n",
       "      <th></th>\n",
       "      <th>url</th>\n",
       "      <th>title</th>\n",
       "      <th>date_published</th>\n",
       "      <th>original</th>\n",
       "    </tr>\n",
       "  </thead>\n",
       "  <tbody>\n",
       "    <tr>\n",
       "      <th>0</th>\n",
       "      <td>https://codeup.com/data-science/recession-proo...</td>\n",
       "      <td>Is a Career in Tech Recession-Proof?\\nAug 12, ...</td>\n",
       "      <td>Aug 12, 2022</td>\n",
       "      <td>Given the current economic climate, many econo...</td>\n",
       "    </tr>\n",
       "    <tr>\n",
       "      <th>1</th>\n",
       "      <td>https://codeup.com/codeup-news/codeup-x-comic-...</td>\n",
       "      <td>Codeup X Superhero Car Show &amp; Comic Con\\nAug 1...</td>\n",
       "      <td>Aug 10, 2022</td>\n",
       "      <td>Codeup had a blast at the San Antonio Superher...</td>\n",
       "    </tr>\n",
       "    <tr>\n",
       "      <th>2</th>\n",
       "      <td>https://codeup.com/featured/series-part-3-web-...</td>\n",
       "      <td>What Jobs Can You Get After a Coding Bootcamp?...</td>\n",
       "      <td>Aug 2, 2022</td>\n",
       "      <td>If you’re considering a career in web developm...</td>\n",
       "    </tr>\n",
       "    <tr>\n",
       "      <th>3</th>\n",
       "      <td>https://codeup.com/codeup-news/codeup-dallas-c...</td>\n",
       "      <td>Codeup’s New Dallas Campus\\nJul 25, 2022 | Cod...</td>\n",
       "      <td>Jul 25, 2022</td>\n",
       "      <td>Codeup’s Dallas campus has a new location! For...</td>\n",
       "    </tr>\n",
       "    <tr>\n",
       "      <th>4</th>\n",
       "      <td>https://codeup.com/codeup-news/codeup-tv-comme...</td>\n",
       "      <td>Codeup TV Commercial\\nJul 20, 2022 | Codeup Ne...</td>\n",
       "      <td>Jul 20, 2022</td>\n",
       "      <td>Codeup has officially made its TV debut! Our c...</td>\n",
       "    </tr>\n",
       "  </tbody>\n",
       "</table>\n",
       "</div>"
      ],
      "text/plain": [
       "                                                 url  \\\n",
       "0  https://codeup.com/data-science/recession-proo...   \n",
       "1  https://codeup.com/codeup-news/codeup-x-comic-...   \n",
       "2  https://codeup.com/featured/series-part-3-web-...   \n",
       "3  https://codeup.com/codeup-news/codeup-dallas-c...   \n",
       "4  https://codeup.com/codeup-news/codeup-tv-comme...   \n",
       "\n",
       "                                               title date_published  \\\n",
       "0  Is a Career in Tech Recession-Proof?\\nAug 12, ...   Aug 12, 2022   \n",
       "1  Codeup X Superhero Car Show & Comic Con\\nAug 1...   Aug 10, 2022   \n",
       "2  What Jobs Can You Get After a Coding Bootcamp?...    Aug 2, 2022   \n",
       "3  Codeup’s New Dallas Campus\\nJul 25, 2022 | Cod...   Jul 25, 2022   \n",
       "4  Codeup TV Commercial\\nJul 20, 2022 | Codeup Ne...   Jul 20, 2022   \n",
       "\n",
       "                                            original  \n",
       "0  Given the current economic climate, many econo...  \n",
       "1  Codeup had a blast at the San Antonio Superher...  \n",
       "2  If you’re considering a career in web developm...  \n",
       "3  Codeup’s Dallas campus has a new location! For...  \n",
       "4  Codeup has officially made its TV debut! Our c...  "
      ]
     },
     "execution_count": 19,
     "metadata": {},
     "output_type": "execute_result"
    }
   ],
   "source": [
    "df.head()"
   ]
  },
  {
   "cell_type": "code",
   "execution_count": 20,
   "id": "8fe33023",
   "metadata": {
    "ExecuteTime": {
     "end_time": "2022-08-31T16:14:11.473884Z",
     "start_time": "2022-08-31T16:14:11.459678Z"
    }
   },
   "outputs": [
    {
     "name": "stdout",
     "output_type": "stream",
     "text": [
      "given the current economic climate many economists are considering the us to be entering a recession this can cause confusion fear and uncertainty especially as it pertains to job security\n",
      "to ease some of those feelings below youll find some careers in tech that tend to hold up better than others amid a recession in the event of a recession companies will likely shift to digital strategies making these careers in tech valuable and highly coveted\n",
      " \n",
      "\n",
      "\n",
      "programmerdeveloper\n",
      "no matter the programming language youve mastered having the knowledge alone makes you extremely valuable the coding skills you possess as a programmer or developer are indemand for companies looking to build or enhance their websites and enhance their consumer experience according to the us bureau of labor statistics jobs in software development are expected to grow 22 by 2030 this is much faster than the average career\n",
      "\n",
      " \n",
      "\n",
      "\n",
      "cloud administrator\n",
      "more businesses are transitioning to cloud servers and this increase sparks the need for cloud administrators to maintain and update the cloud infrastructure amid a recession it is likely that efforts regarding security will be heightened as company strategies shift digitally and managing a more secure server will be the responsibility of the cloud administrator\n",
      "\n",
      " \n",
      "\n",
      "\n",
      "data analyst\n",
      "during a recession the need to preserve and monitor data as well as use data to make predictions to drive a business initiatives will be heightened data analysts would be relied on heavily to study the data presented and interpret it to solve any current or future problems\n",
      "\n",
      "the three positions mentioned above can all be obtained after you complete one of our bootcamps and take as little as 15 to 20 weeks to complete upon successful completion if you do not land a job infield within 6 months of graduating from a codeup program we will refund your paid tuition back to you\n",
      " \n",
      "codeup programs\n",
      "codeup is a texasbased career accelerator built to help you transition to a career in tech seamlessly and be wellequipped to succeed in your new role we offer three different programs fullstack web development cloud administration and data science you can learn more about each of them here or by requesting more information on any that may interest you\n",
      "if you have any hesitation about changing your career or about any of our programs please reach out to us we would love to help you find the program that best suits your needs and interests give us a call today at 210 802 7289\n",
      "see tuition refund details and specifications here\n"
     ]
    }
   ],
   "source": [
    "original = df.original[0]\n",
    "article = original.lower()\n",
    "print(prepare.basic_clean(article))"
   ]
  },
  {
   "cell_type": "code",
   "execution_count": 21,
   "id": "aadcbac0",
   "metadata": {
    "ExecuteTime": {
     "end_time": "2022-08-31T16:14:32.821346Z",
     "start_time": "2022-08-31T16:14:32.815798Z"
    }
   },
   "outputs": [
    {
     "name": "stdout",
     "output_type": "stream",
     "text": [
      "Given the current economic climate , many economists are considering the U.S. to be entering a recession. This can cause confusion , fear , and uncertainty , especially as it pertains to job security.\n",
      "To ease some of those feelings , below you ’ ll find some careers in tech that tend to hold up better than others amid a recession. In the event of a recession , companies will likely shift to digital strategies , making these careers in tech valuable and highly coveted.\n",
      " \n",
      "\n",
      "\n",
      "Programmer/Developer\n",
      "No matter the programming language you ’ ve mastered , having the knowledge alone makes you extremely valuable. The coding skills you possess as a programmer or developer are in-demand for companies looking to build or enhance their websites , and enhance their consumer experience. According to the U.S. Bureau of Labor Statistics , jobs in software development are expected to grow 22 % by 2030. This is much faster than the average career.\n",
      "\n",
      " \n",
      "\n",
      "\n",
      "Cloud Administrator\n",
      "More businesses are transitioning to cloud servers and this increase sparks the need for cloud administrators to maintain and update the cloud infrastructure. Amid a recession , it is likely that efforts regarding security will be heightened as company strategies shift digitally , and managing a more secure server will be the responsibility of the cloud administrator.\n",
      "\n",
      " \n",
      "\n",
      "\n",
      "Data Analyst\n",
      "During a recession , the need to preserve and monitor data , as well as use data to make predictions to drive a business ’ initiatives will be heightened. Data analysts would be relied on heavily to study the data presented and interpret it to solve any current or future problems.\n",
      "\n",
      "The three positions mentioned above can all be obtained after you complete one of our bootcamps , and take as little as 15 to 20 weeks to complete. Upon successful completion , if you do not land a job in-field within 6 months of graduating from a Codeup program , we will refund your paid tuition back to you.*\n",
      " \n",
      "Codeup Programs\n",
      "Codeup is a Texas-based career accelerator , built to help you transition to a career in tech seamlessly , and be well-equipped to succeed in your new role. We offer three different programs : Full-Stack Web Development , Cloud Administration , and Data Science. You can learn more about each of them here or by requesting more information on any that may interest you.\n",
      "If you have any hesitation about changing your career , or about any of our programs please reach out to us. We would love to help you find the program that best suits your needs and interests. Give us a call today at ( 210 ) 802- 7289.\n",
      "*See tuition refund details and specifications here .\n"
     ]
    }
   ],
   "source": [
    "tokenizer = nltk.tokenize.ToktokTokenizer()\n",
    "\n",
    "print(tokenizer.tokenize(original, return_str=True))"
   ]
  },
  {
   "cell_type": "code",
   "execution_count": 22,
   "id": "06b38626",
   "metadata": {
    "ExecuteTime": {
     "end_time": "2022-08-31T16:15:25.942678Z",
     "start_time": "2022-08-31T16:15:25.919191Z"
    }
   },
   "outputs": [
    {
     "data": {
      "text/plain": [
       "'given the current econom climate, mani economist are consid the u.s. to be enter a recession. thi can caus confusion, fear, and uncertainty, especi as it pertain to job security. to eas some of those feelings, below you’ll find some career in tech that tend to hold up better than other amid a recession. in the event of a recession, compani will like shift to digit strategies, make these career in tech valuabl and highli coveted. programmer/develop no matter the program languag you’v mastered, have the knowledg alon make you extrem valuable. the code skill you possess as a programm or develop are in-demand for compani look to build or enhanc their websites, and enhanc their consum experience. accord to the u.s. bureau of labor statistics, job in softwar develop are expect to grow 22% by 2030. thi is much faster than the averag career. cloud administr more busi are transit to cloud server and thi increas spark the need for cloud administr to maintain and updat the cloud infrastructure. amid a recession, it is like that effort regard secur will be heighten as compani strategi shift digitally, and manag a more secur server will be the respons of the cloud administrator. data analyst dure a recession, the need to preserv and monitor data, as well as use data to make predict to drive a business’ initi will be heightened. data analyst would be reli on heavili to studi the data present and interpret it to solv ani current or futur problems. the three posit mention abov can all be obtain after you complet one of our bootcamps, and take as littl as 15 to 20 week to complete. upon success completion, if you do not land a job in-field within 6 month of graduat from a codeup program, we will refund your paid tuition back to you.* codeup program codeup is a texas-bas career accelerator, built to help you transit to a career in tech seamlessly, and be well-equip to succeed in your new role. we offer three differ programs: full-stack web development, cloud administration, and data science. you can learn more about each of them here or by request more inform on ani that may interest you. if you have ani hesit about chang your career, or about ani of our program pleas reach out to us. we would love to help you find the program that best suit your need and interests. give us a call today at (210) 802- 7289. *see tuition refund detail and specif here.'"
      ]
     },
     "execution_count": 22,
     "metadata": {},
     "output_type": "execute_result"
    }
   ],
   "source": [
    "stems = prepare.stem(original)\n",
    "stems"
   ]
  },
  {
   "cell_type": "code",
   "execution_count": 23,
   "id": "d2f3cc8a",
   "metadata": {
    "ExecuteTime": {
     "end_time": "2022-08-31T16:15:47.046508Z",
     "start_time": "2022-08-31T16:15:47.022345Z"
    }
   },
   "outputs": [
    {
     "data": {
      "text/plain": [
       "'Given the current economic climate, many economists are considering the U.S. to be entering a recession. This can cause confusion, fear, and uncertainty, especially as it pertains to job security.\\nTo ease some of those feelings, below you’ll find some careers in tech that tend to hold up better than others amid a recession. In the event of a recession, companies will likely shift to digital strategies, making these careers in tech valuable and highly coveted.\\n\\xa0\\n\\n\\nProgrammer/Developer\\nNo matter the programming language you’ve mastered, having the knowledge alone makes you extremely valuable. The coding skills you possess as a programmer or developer are in-demand for companies looking to build or enhance their websites, and enhance their consumer experience. According to the U.S. Bureau of Labor Statistics, jobs in software development are expected to grow 22% by 2030. This is much faster than the average career.\\n\\n\\xa0\\n\\n\\nCloud Administrator\\nMore businesses are transitioning to cloud servers and this increase sparks the need for cloud administrators to maintain and update the cloud infrastructure. Amid a recession, it is likely that efforts regarding security will be heightened as company strategies shift digitally, and managing a more secure server will be the responsibility of the cloud administrator.\\n\\n\\xa0\\n\\n\\nData Analyst\\nDuring a recession, the need to preserve and monitor data, as well as use data to make predictions to drive a business’ initiatives will be heightened. Data analysts would be relied on heavily to study the data presented and interpret it to solve any current or future problems.\\n\\nThe three positions mentioned above can all be obtained after you complete one of our bootcamps, and take as little as 15 to 20 weeks to complete. Upon successful completion, if you do not land a job in-field within 6 months of graduating from a Codeup program, we will refund your paid tuition back to you.*\\n\\xa0\\nCodeup Programs\\nCodeup is a Texas-based career accelerator, built to help you transition to a career in tech seamlessly, and be well-equipped to succeed in your new role. We offer three different programs: Full-Stack Web Development, Cloud Administration, and Data Science. You can learn more about each of them here or by requesting more information on any that may interest you.\\nIf you have any hesitation about changing your career, or about any of our programs please reach out to us. We would love to help you find the program that best suits your needs and interests. Give us a call today at (210) 802- 7289.\\n*See tuition refund details and specifications here.'"
      ]
     },
     "execution_count": 23,
     "metadata": {},
     "output_type": "execute_result"
    }
   ],
   "source": [
    "prepare.lemmatize(original)\n",
    "original"
   ]
  },
  {
   "cell_type": "code",
   "execution_count": 24,
   "id": "164ef984",
   "metadata": {
    "ExecuteTime": {
     "end_time": "2022-08-31T16:16:14.265585Z",
     "start_time": "2022-08-31T16:16:14.253662Z"
    }
   },
   "outputs": [
    {
     "data": {
      "text/plain": [
       "'Given current economic climate, many economists considering U.S. entering recession. This cause confusion, fear, uncertainty, especially pertains job security. To ease feelings, you’ll find careers tech tend hold better others amid recession. In event recession, companies likely shift digital strategies, making careers tech valuable highly coveted. Programmer/Developer No matter programming language you’ve mastered, knowledge alone makes extremely valuable. The coding skills possess programmer developer in-demand for companies looking build enhance websites, enhance consumer experience. According U.S. Bureau Labor Statistics, jobs software development expected grow 22% 2030. This much faster average career. Cloud Administrator More businesses transitioning cloud servers increase sparks need for cloud administrators maintain update cloud infrastructure. Amid recession, likely efforts regarding security heightened company strategies shift digitally, managing secure server responsibility cloud administrator. Data Analyst During recession, need preserve monitor data, well use data make predictions drive business’ initiatives heightened. Data analysts would relied heavily study data presented interpret solve current future problems. The three positions mentioned obtained complete one bootcamps, take little 15 20 weeks complete. Upon successful completion, land job in-field within 6 months graduating Codeup program, refund paid tuition back you.* Codeup Programs Codeup Texas-based career accelerator, built help transition career tech seamlessly, well-equipped succeed new role. We offer three different programs: Full-Stack Web Development, Cloud Administration, Data Science. You learn requesting information may interest you. If hesitation changing career, programs please reach us. We would love help find program best suits needs interests. Give us call today (210) 802- 7289. *See tuition refund details specifications here.'"
      ]
     },
     "execution_count": 24,
     "metadata": {},
     "output_type": "execute_result"
    }
   ],
   "source": [
    "prepare.remove_stopwords(original, extra_words = ['Taryn', 'Month','chat'], exclude_words= ['for','We'])"
   ]
  },
  {
   "cell_type": "markdown",
   "id": "4a08717d",
   "metadata": {},
   "source": [
    "7. Make another dataframe for the Codeup blog posts. Name the dataframe codeup_df.\n",
    "8. For each dataframe, produce the following columns:\n",
    "    - title to hold the title\n",
    "    - original to hold the original article/post content\n",
    "    - clean to hold the normalized and tokenized original with the stopwords removed.\n",
    "    - stemmed to hold the stemmed version of the cleaned data.\n",
    "    - lemmatized to hold the lemmatized version of the cleaned data."
   ]
  },
  {
   "cell_type": "code",
   "execution_count": 11,
   "id": "3b26fec8",
   "metadata": {
    "ExecuteTime": {
     "end_time": "2022-08-31T14:02:55.716810Z",
     "start_time": "2022-08-31T14:02:55.032114Z"
    }
   },
   "outputs": [],
   "source": [
    "codeup_df = prepare.create_prepared_blog_df()"
   ]
  },
  {
   "cell_type": "code",
   "execution_count": 12,
   "id": "f75796b2",
   "metadata": {
    "ExecuteTime": {
     "end_time": "2022-08-31T14:02:55.721429Z",
     "start_time": "2022-08-31T14:02:55.717514Z"
    }
   },
   "outputs": [
    {
     "data": {
      "text/html": [
       "<div>\n",
       "<style scoped>\n",
       "    .dataframe tbody tr th:only-of-type {\n",
       "        vertical-align: middle;\n",
       "    }\n",
       "\n",
       "    .dataframe tbody tr th {\n",
       "        vertical-align: top;\n",
       "    }\n",
       "\n",
       "    .dataframe thead th {\n",
       "        text-align: right;\n",
       "    }\n",
       "</style>\n",
       "<table border=\"1\" class=\"dataframe\">\n",
       "  <thead>\n",
       "    <tr style=\"text-align: right;\">\n",
       "      <th></th>\n",
       "      <th>url</th>\n",
       "      <th>title</th>\n",
       "      <th>date_published</th>\n",
       "      <th>original</th>\n",
       "      <th>clean</th>\n",
       "      <th>stemmed</th>\n",
       "      <th>lemmatized</th>\n",
       "    </tr>\n",
       "  </thead>\n",
       "  <tbody>\n",
       "    <tr>\n",
       "      <th>0</th>\n",
       "      <td>https://codeup.com/data-science/recession-proo...</td>\n",
       "      <td>Is a Career in Tech Recession-Proof?\\nAug 12, ...</td>\n",
       "      <td>Aug 12, 2022</td>\n",
       "      <td>Given the current economic climate, many econo...</td>\n",
       "      <td>given current economic climate many economists...</td>\n",
       "      <td>given current econom climat mani economist con...</td>\n",
       "      <td>given current economic climate many economist ...</td>\n",
       "    </tr>\n",
       "    <tr>\n",
       "      <th>1</th>\n",
       "      <td>https://codeup.com/codeup-news/codeup-x-comic-...</td>\n",
       "      <td>Codeup X Superhero Car Show &amp; Comic Con\\nAug 1...</td>\n",
       "      <td>Aug 10, 2022</td>\n",
       "      <td>Codeup had a blast at the San Antonio Superher...</td>\n",
       "      <td>codeup blast san antonio superhero car show co...</td>\n",
       "      <td>codeup blast san antonio superhero car show co...</td>\n",
       "      <td>codeup blast san antonio superhero car show co...</td>\n",
       "    </tr>\n",
       "    <tr>\n",
       "      <th>2</th>\n",
       "      <td>https://codeup.com/featured/series-part-3-web-...</td>\n",
       "      <td>What Jobs Can You Get After a Coding Bootcamp?...</td>\n",
       "      <td>Aug 2, 2022</td>\n",
       "      <td>If you’re considering a career in web developm...</td>\n",
       "      <td>youre considering career web development dont ...</td>\n",
       "      <td>consid career web develop dont know expect con...</td>\n",
       "      <td>youre considering career web development dont ...</td>\n",
       "    </tr>\n",
       "    <tr>\n",
       "      <th>3</th>\n",
       "      <td>https://codeup.com/codeup-news/codeup-dallas-c...</td>\n",
       "      <td>Codeup’s New Dallas Campus\\nJul 25, 2022 | Cod...</td>\n",
       "      <td>Jul 25, 2022</td>\n",
       "      <td>Codeup’s Dallas campus has a new location! For...</td>\n",
       "      <td>codeups dallas campus new location two years c...</td>\n",
       "      <td>codeup dalla campu new locat two year codeup o...</td>\n",
       "      <td>codeups dallas campus new location two year co...</td>\n",
       "    </tr>\n",
       "    <tr>\n",
       "      <th>4</th>\n",
       "      <td>https://codeup.com/codeup-news/codeup-tv-comme...</td>\n",
       "      <td>Codeup TV Commercial\\nJul 20, 2022 | Codeup Ne...</td>\n",
       "      <td>Jul 20, 2022</td>\n",
       "      <td>Codeup has officially made its TV debut! Our c...</td>\n",
       "      <td>codeup officially made tv debut community stud...</td>\n",
       "      <td>codeup offici made tv debut commun student sta...</td>\n",
       "      <td>codeup officially made tv debut community stud...</td>\n",
       "    </tr>\n",
       "  </tbody>\n",
       "</table>\n",
       "</div>"
      ],
      "text/plain": [
       "                                                 url  \\\n",
       "0  https://codeup.com/data-science/recession-proo...   \n",
       "1  https://codeup.com/codeup-news/codeup-x-comic-...   \n",
       "2  https://codeup.com/featured/series-part-3-web-...   \n",
       "3  https://codeup.com/codeup-news/codeup-dallas-c...   \n",
       "4  https://codeup.com/codeup-news/codeup-tv-comme...   \n",
       "\n",
       "                                               title date_published  \\\n",
       "0  Is a Career in Tech Recession-Proof?\\nAug 12, ...   Aug 12, 2022   \n",
       "1  Codeup X Superhero Car Show & Comic Con\\nAug 1...   Aug 10, 2022   \n",
       "2  What Jobs Can You Get After a Coding Bootcamp?...    Aug 2, 2022   \n",
       "3  Codeup’s New Dallas Campus\\nJul 25, 2022 | Cod...   Jul 25, 2022   \n",
       "4  Codeup TV Commercial\\nJul 20, 2022 | Codeup Ne...   Jul 20, 2022   \n",
       "\n",
       "                                            original  \\\n",
       "0  Given the current economic climate, many econo...   \n",
       "1  Codeup had a blast at the San Antonio Superher...   \n",
       "2  If you’re considering a career in web developm...   \n",
       "3  Codeup’s Dallas campus has a new location! For...   \n",
       "4  Codeup has officially made its TV debut! Our c...   \n",
       "\n",
       "                                               clean  \\\n",
       "0  given current economic climate many economists...   \n",
       "1  codeup blast san antonio superhero car show co...   \n",
       "2  youre considering career web development dont ...   \n",
       "3  codeups dallas campus new location two years c...   \n",
       "4  codeup officially made tv debut community stud...   \n",
       "\n",
       "                                             stemmed  \\\n",
       "0  given current econom climat mani economist con...   \n",
       "1  codeup blast san antonio superhero car show co...   \n",
       "2  consid career web develop dont know expect con...   \n",
       "3  codeup dalla campu new locat two year codeup o...   \n",
       "4  codeup offici made tv debut commun student sta...   \n",
       "\n",
       "                                          lemmatized  \n",
       "0  given current economic climate many economist ...  \n",
       "1  codeup blast san antonio superhero car show co...  \n",
       "2  youre considering career web development dont ...  \n",
       "3  codeups dallas campus new location two year co...  \n",
       "4  codeup officially made tv debut community stud...  "
      ]
     },
     "execution_count": 12,
     "metadata": {},
     "output_type": "execute_result"
    }
   ],
   "source": [
    "codeup_df.head()"
   ]
  },
  {
   "cell_type": "markdown",
   "id": "4dfbac14",
   "metadata": {},
   "source": [
    "9. Ask yourself:\n",
    "\n",
    "    - If your corpus is 493KB, would you prefer to use stemmed or lemmatized text?\n",
    "        - Lemmatized\n",
    "    - If your corpus is 25MB, would you prefer to use stemmed or lemmatized text?\n",
    "        - Lemmatized, may want to consider stemm.\n",
    "    - If your corpus is 200TB of text and you're charged by the megabyte for your hosted computational resources, would you prefer to use stemmed or lemmatized text?\n",
    "        - Stemmed"
   ]
  },
  {
   "cell_type": "code",
   "execution_count": null,
   "id": "d33254d1",
   "metadata": {},
   "outputs": [],
   "source": []
  }
 ],
 "metadata": {
  "kernelspec": {
   "display_name": "Python 3 (ipykernel)",
   "language": "python",
   "name": "python3"
  },
  "language_info": {
   "codemirror_mode": {
    "name": "ipython",
    "version": 3
   },
   "file_extension": ".py",
   "mimetype": "text/x-python",
   "name": "python",
   "nbconvert_exporter": "python",
   "pygments_lexer": "ipython3",
   "version": "3.9.13"
  }
 },
 "nbformat": 4,
 "nbformat_minor": 5
}
