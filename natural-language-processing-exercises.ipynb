{
 "cells": [
  {
   "cell_type": "code",
   "execution_count": 1,
   "id": "508a3a9a",
   "metadata": {
    "ExecuteTime": {
     "end_time": "2022-08-29T02:39:11.772246Z",
     "start_time": "2022-08-29T02:39:11.137572Z"
    }
   },
   "outputs": [],
   "source": [
    "import re\n",
    "import pandas as pd\n",
    "import numpy as np"
   ]
  },
  {
   "cell_type": "markdown",
   "id": "76c8866b",
   "metadata": {},
   "source": [
    "**1. Is it a vowel?**"
   ]
  },
  {
   "cell_type": "code",
   "execution_count": 2,
   "id": "b4497cb4",
   "metadata": {
    "ExecuteTime": {
     "end_time": "2022-08-29T02:39:48.717913Z",
     "start_time": "2022-08-29T02:39:48.714804Z"
    }
   },
   "outputs": [],
   "source": [
    "def is_vowel(x:str):\n",
    "    \"\"\" Returns match object if inputted string x is a vowel \"\"\"\n",
    "    return re.search(r'^[aeiouAEIOU]$',x)"
   ]
  },
  {
   "cell_type": "code",
   "execution_count": 37,
   "id": "c982860b",
   "metadata": {
    "ExecuteTime": {
     "end_time": "2022-08-29T15:44:02.347372Z",
     "start_time": "2022-08-29T15:44:02.341394Z"
    }
   },
   "outputs": [],
   "source": [
    "is_vowel('you')"
   ]
  },
  {
   "cell_type": "code",
   "execution_count": 45,
   "id": "e8623c40",
   "metadata": {
    "ExecuteTime": {
     "end_time": "2022-08-29T19:30:51.597994Z",
     "start_time": "2022-08-29T19:30:51.592443Z"
    }
   },
   "outputs": [
    {
     "data": {
      "text/plain": [
       "<re.Match object; span=(0, 1), match='a'>"
      ]
     },
     "execution_count": 45,
     "metadata": {},
     "output_type": "execute_result"
    }
   ],
   "source": [
    "is_vowel('a')"
   ]
  },
  {
   "cell_type": "markdown",
   "id": "e0db75c9",
   "metadata": {
    "ExecuteTime": {
     "end_time": "2022-08-29T19:51:47.085258Z",
     "start_time": "2022-08-29T19:51:47.082942Z"
    }
   },
   "source": [
    "### Alternate Method to get true and false"
   ]
  },
  {
   "cell_type": "code",
   "execution_count": 47,
   "id": "e4af55a4",
   "metadata": {
    "ExecuteTime": {
     "end_time": "2022-08-29T19:32:16.115419Z",
     "start_time": "2022-08-29T19:32:16.110038Z"
    }
   },
   "outputs": [],
   "source": [
    "def is_a_vowel(var):\n",
    "    '''\n",
    "    Takes in a string and returns true or false if it is a vowel.  \n",
    "    Must by a single character to return True - ignores case.\n",
    "    Prints error to screen if a string was not passed.\n",
    "    '''\n",
    "    if not isinstance(var,str): \n",
    "        print(f'Error: expected a string')\n",
    "        return None\n",
    "    #if returns match object (aka not None) & only one character \n",
    "    if re.search(r'[aeiou]',var,re.IGNORECASE) and len(var) == 1: return True\n",
    "    else: return False"
   ]
  },
  {
   "cell_type": "code",
   "execution_count": 43,
   "id": "4271c1af",
   "metadata": {
    "ExecuteTime": {
     "end_time": "2022-08-29T19:30:29.726042Z",
     "start_time": "2022-08-29T19:30:29.711223Z"
    }
   },
   "outputs": [
    {
     "data": {
      "text/plain": [
       "False"
      ]
     },
     "execution_count": 43,
     "metadata": {},
     "output_type": "execute_result"
    }
   ],
   "source": [
    "is_a_vowel('Cap')"
   ]
  },
  {
   "cell_type": "code",
   "execution_count": 44,
   "id": "225d22b5",
   "metadata": {
    "ExecuteTime": {
     "end_time": "2022-08-29T19:30:34.589555Z",
     "start_time": "2022-08-29T19:30:34.575672Z"
    }
   },
   "outputs": [
    {
     "data": {
      "text/plain": [
       "False"
      ]
     },
     "execution_count": 44,
     "metadata": {},
     "output_type": "execute_result"
    }
   ],
   "source": [
    "is_a_vowel('A')"
   ]
  },
  {
   "cell_type": "markdown",
   "id": "c0e1b5d2",
   "metadata": {},
   "source": [
    "**2. User Names**"
   ]
  },
  {
   "cell_type": "code",
   "execution_count": 3,
   "id": "7718d7d1",
   "metadata": {
    "ExecuteTime": {
     "end_time": "2022-08-29T02:40:31.602156Z",
     "start_time": "2022-08-29T02:40:31.598437Z"
    }
   },
   "outputs": [],
   "source": [
    "def is_valid_username(x:str):\n",
    "    \"\"\" Checks whether inputted string is a valid username:\n",
    "    -Starts with lowercase letter\n",
    "    -Only lowercase letters, numbers or _\n",
    "    -No longer than 32 characters\"\"\"\n",
    "    if re.search(r'^[a-z][_a-z0-9]{,31}$',x):\n",
    "        return True\n",
    "    else:\n",
    "        return False"
   ]
  },
  {
   "cell_type": "code",
   "execution_count": 4,
   "id": "089acd41",
   "metadata": {
    "ExecuteTime": {
     "end_time": "2022-08-29T02:40:38.061900Z",
     "start_time": "2022-08-29T02:40:38.048709Z"
    }
   },
   "outputs": [
    {
     "data": {
      "text/plain": [
       "True"
      ]
     },
     "execution_count": 4,
     "metadata": {},
     "output_type": "execute_result"
    }
   ],
   "source": [
    "is_valid_username('c_2odeup')"
   ]
  },
  {
   "cell_type": "code",
   "execution_count": 8,
   "id": "f92063bd",
   "metadata": {
    "ExecuteTime": {
     "end_time": "2022-08-29T02:42:01.935643Z",
     "start_time": "2022-08-29T02:42:01.927627Z"
    }
   },
   "outputs": [
    {
     "data": {
      "text/plain": [
       "False"
      ]
     },
     "execution_count": 8,
     "metadata": {},
     "output_type": "execute_result"
    }
   ],
   "source": [
    "is_valid_username('Codeup')"
   ]
  },
  {
   "cell_type": "code",
   "execution_count": 6,
   "id": "c5134a8e",
   "metadata": {
    "ExecuteTime": {
     "end_time": "2022-08-29T02:41:30.330868Z",
     "start_time": "2022-08-29T02:41:30.326848Z"
    }
   },
   "outputs": [
    {
     "data": {
      "text/plain": [
       "True"
      ]
     },
     "execution_count": 6,
     "metadata": {},
     "output_type": "execute_result"
    }
   ],
   "source": [
    "is_valid_username('codeup123')"
   ]
  },
  {
   "cell_type": "code",
   "execution_count": 7,
   "id": "cf6c5cca",
   "metadata": {
    "ExecuteTime": {
     "end_time": "2022-08-29T02:41:48.260358Z",
     "start_time": "2022-08-29T02:41:48.255732Z"
    }
   },
   "outputs": [
    {
     "data": {
      "text/plain": [
       "False"
      ]
     },
     "execution_count": 7,
     "metadata": {},
     "output_type": "execute_result"
    }
   ],
   "source": [
    "is_valid_username('aaaaaaaaaaaaaaaaaaaaaaaaaaaaaaaaa')"
   ]
  },
  {
   "cell_type": "markdown",
   "id": "3d865020",
   "metadata": {},
   "source": [
    "### Alternate Method to give error messages"
   ]
  },
  {
   "cell_type": "code",
   "execution_count": 50,
   "id": "ba7d26bf",
   "metadata": {
    "ExecuteTime": {
     "end_time": "2022-08-29T19:33:27.852142Z",
     "start_time": "2022-08-29T19:33:27.845980Z"
    }
   },
   "outputs": [],
   "source": [
    "def is_valid_username2(username):\n",
    "    '''\n",
    "    Takes in a string and checks if it is a valid username.\n",
    "    Prints an error if a string is not passed.\n",
    "    Returns True if a valid username, returns False if not valid and prints error message to screen\n",
    "    \n",
    "    A username is valid if:\n",
    "        It starts with a lowercase letter\n",
    "        It only contains lowercase letters, numbers and an underscore\n",
    "        It is 32 characters or less.\n",
    "    '''\n",
    "    #error out if not passed a string\n",
    "    if not isinstance(username,str): \n",
    "        print(f'Error: expected a string')\n",
    "        return None\n",
    "    #intitialize error message string\n",
    "    err_msg = ''\n",
    "    #if string doesn't start with lowercase letter\n",
    "    if not username[0].islower():\n",
    "        err_msg += \"Username must start with a lowercase letter.\\n\"\n",
    "    \n",
    "    #If contains anything other than lower case letters, numbers or the _ character\n",
    "    if re.search(r'[^0-9a-z_]',username):\n",
    "        err_msg += \"Username must only contain lowercase letters, numbers and the _ character (underscore).\\n\"\n",
    "        \n",
    "    #less than 32 characters\n",
    "    if len(username) > 32: err_msg += \"Username must be 32 characters or less.\\n\"\n",
    "    \n",
    "    #return true if we didn't find any errors\n",
    "    if err_msg == '': return True\n",
    "    #else print the error message and return false\n",
    "    else: \n",
    "        print(err_msg)\n",
    "        return False"
   ]
  },
  {
   "cell_type": "code",
   "execution_count": 52,
   "id": "d81ba73c",
   "metadata": {
    "ExecuteTime": {
     "end_time": "2022-08-29T19:36:08.184459Z",
     "start_time": "2022-08-29T19:36:08.163884Z"
    }
   },
   "outputs": [
    {
     "name": "stdout",
     "output_type": "stream",
     "text": [
      "Username must start with a lowercase letter.\n",
      "Username must only contain lowercase letters, numbers and the _ character (underscore).\n",
      "\n"
     ]
    },
    {
     "data": {
      "text/plain": [
       "False"
      ]
     },
     "execution_count": 52,
     "metadata": {},
     "output_type": "execute_result"
    }
   ],
   "source": [
    "is_valid_username2('Codeup')"
   ]
  },
  {
   "cell_type": "code",
   "execution_count": 53,
   "id": "225f3219",
   "metadata": {
    "ExecuteTime": {
     "end_time": "2022-08-29T19:36:48.308462Z",
     "start_time": "2022-08-29T19:36:48.299683Z"
    }
   },
   "outputs": [
    {
     "name": "stdout",
     "output_type": "stream",
     "text": [
      "Username must be 32 characters or less.\n",
      "\n"
     ]
    },
    {
     "data": {
      "text/plain": [
       "False"
      ]
     },
     "execution_count": 53,
     "metadata": {},
     "output_type": "execute_result"
    }
   ],
   "source": [
    "is_valid_username2('aaaaaaaaaaaaaaaaaaaaaaaaaaaaaaaaa')"
   ]
  },
  {
   "cell_type": "code",
   "execution_count": 54,
   "id": "5c0a7aaa",
   "metadata": {
    "ExecuteTime": {
     "end_time": "2022-08-29T19:37:41.474980Z",
     "start_time": "2022-08-29T19:37:41.467822Z"
    }
   },
   "outputs": [
    {
     "data": {
      "text/plain": [
       "True"
      ]
     },
     "execution_count": 54,
     "metadata": {},
     "output_type": "execute_result"
    }
   ],
   "source": [
    "is_valid_username2('codeup123')"
   ]
  },
  {
   "cell_type": "markdown",
   "id": "02ba9ec7",
   "metadata": {},
   "source": [
    "**3. Phone Numbers**"
   ]
  },
  {
   "cell_type": "code",
   "execution_count": 9,
   "id": "83941007",
   "metadata": {
    "ExecuteTime": {
     "end_time": "2022-08-29T02:42:26.683909Z",
     "start_time": "2022-08-29T02:42:26.678473Z"
    }
   },
   "outputs": [
    {
     "name": "stdout",
     "output_type": "stream",
     "text": [
      "(210) 867 5309 matches\n",
      "+1 210.867.5309 matches\n",
      "867-5309 matches\n",
      "210-867-5309 matches\n"
     ]
    }
   ],
   "source": [
    "subjects = ['(210) 867 5309',\n",
    "            '+1 210.867.5309', \n",
    "            '867-5309',\n",
    "            '210-867-5309']\n",
    "regexp = r'\\d{0,3}\\D?\\d{3}\\D\\d{4}'\n",
    "for subject in subjects:\n",
    "    if re.search(regexp, subject):\n",
    "        print(subject, \"matches\")\n",
    "    else:\n",
    "        print(subject, \"does not match\")"
   ]
  },
  {
   "cell_type": "code",
   "execution_count": 57,
   "id": "eb74687c",
   "metadata": {
    "ExecuteTime": {
     "end_time": "2022-08-29T19:46:57.506299Z",
     "start_time": "2022-08-29T19:46:57.503350Z"
    }
   },
   "outputs": [],
   "source": [
    "phone_regex = re.compile(\n",
    "\"\"\"\n",
    "^\n",
    "(?P<country_code>\\+\\d+)?\n",
    "\\D*?\n",
    "(?P<area_code>\\d{3})?\n",
    "\\D*?\n",
    "(?P<prefix>\\d{3})\n",
    "\\D*?\n",
    "(?P<line>\\d{4})\n",
    "\"\"\", re.VERBOSE)\n"
   ]
  },
  {
   "cell_type": "code",
   "execution_count": 59,
   "id": "a41cba19",
   "metadata": {
    "ExecuteTime": {
     "end_time": "2022-08-29T19:47:15.320793Z",
     "start_time": "2022-08-29T19:47:15.304225Z"
    }
   },
   "outputs": [
    {
     "data": {
      "text/html": [
       "<div>\n",
       "<style scoped>\n",
       "    .dataframe tbody tr th:only-of-type {\n",
       "        vertical-align: middle;\n",
       "    }\n",
       "\n",
       "    .dataframe tbody tr th {\n",
       "        vertical-align: top;\n",
       "    }\n",
       "\n",
       "    .dataframe thead th {\n",
       "        text-align: right;\n",
       "    }\n",
       "</style>\n",
       "<table border=\"1\" class=\"dataframe\">\n",
       "  <thead>\n",
       "    <tr style=\"text-align: right;\">\n",
       "      <th></th>\n",
       "      <th>num</th>\n",
       "      <th>country_code</th>\n",
       "      <th>area_code</th>\n",
       "      <th>prefix</th>\n",
       "      <th>line</th>\n",
       "    </tr>\n",
       "  </thead>\n",
       "  <tbody>\n",
       "    <tr>\n",
       "      <th>0</th>\n",
       "      <td>(210) 867 5309</td>\n",
       "      <td>NaN</td>\n",
       "      <td>210</td>\n",
       "      <td>867</td>\n",
       "      <td>5309</td>\n",
       "    </tr>\n",
       "    <tr>\n",
       "      <th>1</th>\n",
       "      <td>+1 210.867.5309</td>\n",
       "      <td>+1</td>\n",
       "      <td>210</td>\n",
       "      <td>867</td>\n",
       "      <td>5309</td>\n",
       "    </tr>\n",
       "    <tr>\n",
       "      <th>2</th>\n",
       "      <td>867-5309</td>\n",
       "      <td>NaN</td>\n",
       "      <td>NaN</td>\n",
       "      <td>867</td>\n",
       "      <td>5309</td>\n",
       "    </tr>\n",
       "    <tr>\n",
       "      <th>3</th>\n",
       "      <td>210-867-5309</td>\n",
       "      <td>NaN</td>\n",
       "      <td>210</td>\n",
       "      <td>867</td>\n",
       "      <td>5309</td>\n",
       "    </tr>\n",
       "  </tbody>\n",
       "</table>\n",
       "</div>"
      ],
      "text/plain": [
       "               num country_code area_code prefix  line\n",
       "0   (210) 867 5309          NaN       210    867  5309\n",
       "1  +1 210.867.5309           +1       210    867  5309\n",
       "2         867-5309          NaN       NaN    867  5309\n",
       "3     210-867-5309          NaN       210    867  5309"
      ]
     },
     "execution_count": 59,
     "metadata": {},
     "output_type": "execute_result"
    }
   ],
   "source": [
    "pd.concat([pd.DataFrame({'num':subjects}),pd.DataFrame({'num':subjects}).num.str.extract(phone_regex)],axis=1)"
   ]
  },
  {
   "cell_type": "markdown",
   "id": "9d673c60",
   "metadata": {},
   "source": [
    "**4. convert to year - month - day**"
   ]
  },
  {
   "cell_type": "code",
   "execution_count": 11,
   "id": "d134c184",
   "metadata": {
    "ExecuteTime": {
     "end_time": "2022-08-29T02:43:34.257237Z",
     "start_time": "2022-08-29T02:43:34.252761Z"
    }
   },
   "outputs": [],
   "source": [
    "df = pd.DataFrame({'original_dates':['02/04/19','02/05/19','02/06/19','02/07/19','02/08/19','02/09/19','02/10/19']})\n",
    "regexp=r'(\\d{2})/(\\d{2})/(\\d{2})'"
   ]
  },
  {
   "cell_type": "code",
   "execution_count": 12,
   "id": "daf95ff1",
   "metadata": {
    "ExecuteTime": {
     "end_time": "2022-08-29T02:43:45.241691Z",
     "start_time": "2022-08-29T02:43:45.236023Z"
    }
   },
   "outputs": [],
   "source": [
    "df['converted'] = df.original_dates.str.replace(pat = regexp,repl = r'20\\3-\\1-\\2', regex=True)"
   ]
  },
  {
   "cell_type": "code",
   "execution_count": 13,
   "id": "43fff91f",
   "metadata": {
    "ExecuteTime": {
     "end_time": "2022-08-29T02:43:51.441223Z",
     "start_time": "2022-08-29T02:43:51.432269Z"
    }
   },
   "outputs": [
    {
     "data": {
      "text/html": [
       "<div>\n",
       "<style scoped>\n",
       "    .dataframe tbody tr th:only-of-type {\n",
       "        vertical-align: middle;\n",
       "    }\n",
       "\n",
       "    .dataframe tbody tr th {\n",
       "        vertical-align: top;\n",
       "    }\n",
       "\n",
       "    .dataframe thead th {\n",
       "        text-align: right;\n",
       "    }\n",
       "</style>\n",
       "<table border=\"1\" class=\"dataframe\">\n",
       "  <thead>\n",
       "    <tr style=\"text-align: right;\">\n",
       "      <th></th>\n",
       "      <th>original_dates</th>\n",
       "      <th>converted</th>\n",
       "    </tr>\n",
       "  </thead>\n",
       "  <tbody>\n",
       "    <tr>\n",
       "      <th>0</th>\n",
       "      <td>02/04/19</td>\n",
       "      <td>2019-02-04</td>\n",
       "    </tr>\n",
       "    <tr>\n",
       "      <th>1</th>\n",
       "      <td>02/05/19</td>\n",
       "      <td>2019-02-05</td>\n",
       "    </tr>\n",
       "    <tr>\n",
       "      <th>2</th>\n",
       "      <td>02/06/19</td>\n",
       "      <td>2019-02-06</td>\n",
       "    </tr>\n",
       "    <tr>\n",
       "      <th>3</th>\n",
       "      <td>02/07/19</td>\n",
       "      <td>2019-02-07</td>\n",
       "    </tr>\n",
       "    <tr>\n",
       "      <th>4</th>\n",
       "      <td>02/08/19</td>\n",
       "      <td>2019-02-08</td>\n",
       "    </tr>\n",
       "    <tr>\n",
       "      <th>5</th>\n",
       "      <td>02/09/19</td>\n",
       "      <td>2019-02-09</td>\n",
       "    </tr>\n",
       "    <tr>\n",
       "      <th>6</th>\n",
       "      <td>02/10/19</td>\n",
       "      <td>2019-02-10</td>\n",
       "    </tr>\n",
       "  </tbody>\n",
       "</table>\n",
       "</div>"
      ],
      "text/plain": [
       "  original_dates   converted\n",
       "0       02/04/19  2019-02-04\n",
       "1       02/05/19  2019-02-05\n",
       "2       02/06/19  2019-02-06\n",
       "3       02/07/19  2019-02-07\n",
       "4       02/08/19  2019-02-08\n",
       "5       02/09/19  2019-02-09\n",
       "6       02/10/19  2019-02-10"
      ]
     },
     "execution_count": 13,
     "metadata": {},
     "output_type": "execute_result"
    }
   ],
   "source": [
    "df"
   ]
  },
  {
   "cell_type": "markdown",
   "id": "846ecd14",
   "metadata": {},
   "source": [
    "5. Logs"
   ]
  },
  {
   "cell_type": "code",
   "execution_count": 63,
   "id": "d48ba72c",
   "metadata": {
    "ExecuteTime": {
     "end_time": "2022-08-29T20:07:04.643298Z",
     "start_time": "2022-08-29T20:07:04.628654Z"
    }
   },
   "outputs": [
    {
     "data": {
      "text/html": [
       "<div>\n",
       "<style scoped>\n",
       "    .dataframe tbody tr th:only-of-type {\n",
       "        vertical-align: middle;\n",
       "    }\n",
       "\n",
       "    .dataframe tbody tr th {\n",
       "        vertical-align: top;\n",
       "    }\n",
       "\n",
       "    .dataframe thead th {\n",
       "        text-align: right;\n",
       "    }\n",
       "</style>\n",
       "<table border=\"1\" class=\"dataframe\">\n",
       "  <thead>\n",
       "    <tr style=\"text-align: right;\">\n",
       "      <th></th>\n",
       "      <th>method</th>\n",
       "      <th>path</th>\n",
       "      <th>timestamp</th>\n",
       "      <th>http_version</th>\n",
       "      <th>status</th>\n",
       "      <th>size</th>\n",
       "      <th>user_agent</th>\n",
       "      <th>ip_address</th>\n",
       "    </tr>\n",
       "  </thead>\n",
       "  <tbody>\n",
       "    <tr>\n",
       "      <th>0</th>\n",
       "      <td>GET</td>\n",
       "      <td>/api/v1/sales?page=86</td>\n",
       "      <td>16/Apr/2019:193452+0000</td>\n",
       "      <td>HTTP/1.1</td>\n",
       "      <td>200</td>\n",
       "      <td>510348</td>\n",
       "      <td>python-requests/2.21.0</td>\n",
       "      <td>97.105.19.58</td>\n",
       "    </tr>\n",
       "    <tr>\n",
       "      <th>1</th>\n",
       "      <td>POST</td>\n",
       "      <td>/users_accounts/file-upload</td>\n",
       "      <td>16/Apr/2019:193452+0000</td>\n",
       "      <td>HTTP/1.1</td>\n",
       "      <td>201</td>\n",
       "      <td>42</td>\n",
       "      <td>User-Agent: Mozilla/5.0 (X11; Fedora; Fedora; ...</td>\n",
       "      <td>97.105.19.58</td>\n",
       "    </tr>\n",
       "    <tr>\n",
       "      <th>2</th>\n",
       "      <td>GET</td>\n",
       "      <td>/api/v1/items?page=3</td>\n",
       "      <td>16/Apr/2019:193453+0000</td>\n",
       "      <td>HTTP/1.1</td>\n",
       "      <td>429</td>\n",
       "      <td>3561</td>\n",
       "      <td>python-requests/2.21.0</td>\n",
       "      <td>97.105.19.58</td>\n",
       "    </tr>\n",
       "  </tbody>\n",
       "</table>\n",
       "</div>"
      ],
      "text/plain": [
       "  method                         path                timestamp http_version  \\\n",
       "0    GET        /api/v1/sales?page=86  16/Apr/2019:193452+0000     HTTP/1.1   \n",
       "1   POST  /users_accounts/file-upload  16/Apr/2019:193452+0000     HTTP/1.1   \n",
       "2    GET         /api/v1/items?page=3  16/Apr/2019:193453+0000     HTTP/1.1   \n",
       "\n",
       "  status    size                                         user_agent  \\\n",
       "0    200  510348                             python-requests/2.21.0   \n",
       "1    201      42  User-Agent: Mozilla/5.0 (X11; Fedora; Fedora; ...   \n",
       "2    429    3561                             python-requests/2.21.0   \n",
       "\n",
       "     ip_address  \n",
       "0  97.105.19.58  \n",
       "1  97.105.19.58  \n",
       "2  97.105.19.58  "
      ]
     },
     "execution_count": 63,
     "metadata": {},
     "output_type": "execute_result"
    }
   ],
   "source": [
    "#define regex\n",
    "logfile_re = r'''\n",
    "^(?P<method>GET|POST)\n",
    "\\s+\n",
    "(?P<path>.*?)\n",
    "\\s+\n",
    "\\[(?P<timestamp>.*?)\\]\n",
    "\\s+\n",
    "(?P<http_version>.*?)\n",
    "\\s+\n",
    "\\{(?P<status>\\d+)\\}\n",
    "\\s+\n",
    "(?P<size>\\d+)\n",
    "\\s+\n",
    "\"(?P<user_agent>.*)\"\n",
    "\\s+\n",
    "(?P<ip_address>\\S*$)\n",
    "'''\n",
    "\n",
    "#create pd Series with log code \n",
    "lines = pd.Series([\n",
    "    'GET /api/v1/sales?page=86 [16/Apr/2019:193452+0000] HTTP/1.1 {200} 510348 \"python-requests/2.21.0\" 97.105.19.58',\n",
    "    'POST /users_accounts/file-upload [16/Apr/2019:193452+0000] HTTP/1.1 {201} 42 \"User-Agent: Mozilla/5.0 (X11; Fedora; Fedora; Linux x86_64) AppleWebKit/537.36 (KHTML, like Gecko) Chrome/73.0.3683.86 Safari/537.36\" 97.105.19.58',\n",
    "    'GET /api/v1/items?page=3 [16/Apr/2019:193453+0000] HTTP/1.1 {429} 3561 \"python-requests/2.21.0\" 97.105.19.58',\n",
    "])\n",
    "\n",
    "#use .str.extract to extract lines of code\n",
    "lines.str.extract(logfile_re, re.VERBOSE)"
   ]
  },
  {
   "cell_type": "code",
   "execution_count": 64,
   "id": "0b816a0e",
   "metadata": {
    "ExecuteTime": {
     "end_time": "2022-08-29T20:07:58.474380Z",
     "start_time": "2022-08-29T20:07:58.449257Z"
    }
   },
   "outputs": [],
   "source": [
    "df = pd.DataFrame({'original_logs':['GET /api/v1/sales?page=86 [16/Apr/2019:193452+0000] HTTP/1.1 {200} 510348 \"python-requests/2.21.0\" 97.105.19.58',\n",
    "        'POST /users_accounts/file-upload [16/Apr/2019:193452+0000] HTTP/1.1 {201} 42 \"User-Agent: Mozilla/5.0 (X11; Fedora; Fedora; Linux x86_64) AppleWebKit/537.36 (KHTML, like Gecko) Chrome/73.0.3683.86 Safari/537.36\" 97.105.19.58',\n",
    "        'GET /api/v1/items?page=3 [16/Apr/2019:193453+0000] HTTP/1.1 {429} 3561 \"python-requests/2.21.0\" 97.105.19.58']})\n",
    "\n",
    "\n",
    "df = pd.concat([df, \n",
    "                df.original_logs.str.extract(r'(?P<method>^[A-Z]{3,})\\s*(?P<path>/\\S*\\b)\\s*\\[(?P<timestamp>[^]]*).*(?P<http_version>[H]\\S*).\\{(?P<status_code>\\d{3,})\\}\\s*(?P<size>\\s\\d{1,}\\s)\\s*\"(?P<user_agent>.*)\"\\s(?P<ip_address>\\S*$)')],axis=1)"
   ]
  },
  {
   "cell_type": "code",
   "execution_count": 65,
   "id": "66f629cc",
   "metadata": {
    "ExecuteTime": {
     "end_time": "2022-08-29T20:08:04.795387Z",
     "start_time": "2022-08-29T20:08:04.780494Z"
    }
   },
   "outputs": [
    {
     "data": {
      "text/html": [
       "<div>\n",
       "<style scoped>\n",
       "    .dataframe tbody tr th:only-of-type {\n",
       "        vertical-align: middle;\n",
       "    }\n",
       "\n",
       "    .dataframe tbody tr th {\n",
       "        vertical-align: top;\n",
       "    }\n",
       "\n",
       "    .dataframe thead th {\n",
       "        text-align: right;\n",
       "    }\n",
       "</style>\n",
       "<table border=\"1\" class=\"dataframe\">\n",
       "  <thead>\n",
       "    <tr style=\"text-align: right;\">\n",
       "      <th></th>\n",
       "      <th>original_logs</th>\n",
       "      <th>method</th>\n",
       "      <th>path</th>\n",
       "      <th>timestamp</th>\n",
       "      <th>http_version</th>\n",
       "      <th>status_code</th>\n",
       "      <th>size</th>\n",
       "      <th>user_agent</th>\n",
       "      <th>ip_address</th>\n",
       "    </tr>\n",
       "  </thead>\n",
       "  <tbody>\n",
       "    <tr>\n",
       "      <th>0</th>\n",
       "      <td>GET /api/v1/sales?page=86 [16/Apr/2019:193452+...</td>\n",
       "      <td>GET</td>\n",
       "      <td>/api/v1/sales?page=86</td>\n",
       "      <td>16/Apr/2019:193452+0000</td>\n",
       "      <td>HTTP/1.1</td>\n",
       "      <td>200</td>\n",
       "      <td>510348</td>\n",
       "      <td>python-requests/2.21.0</td>\n",
       "      <td>97.105.19.58</td>\n",
       "    </tr>\n",
       "    <tr>\n",
       "      <th>1</th>\n",
       "      <td>POST /users_accounts/file-upload [16/Apr/2019:...</td>\n",
       "      <td>POST</td>\n",
       "      <td>/users_accounts/file-upload</td>\n",
       "      <td>16/Apr/2019:193452+0000</td>\n",
       "      <td>HTTP/1.1</td>\n",
       "      <td>201</td>\n",
       "      <td>42</td>\n",
       "      <td>User-Agent: Mozilla/5.0 (X11; Fedora; Fedora; ...</td>\n",
       "      <td>97.105.19.58</td>\n",
       "    </tr>\n",
       "    <tr>\n",
       "      <th>2</th>\n",
       "      <td>GET /api/v1/items?page=3 [16/Apr/2019:193453+0...</td>\n",
       "      <td>GET</td>\n",
       "      <td>/api/v1/items?page=3</td>\n",
       "      <td>16/Apr/2019:193453+0000</td>\n",
       "      <td>HTTP/1.1</td>\n",
       "      <td>429</td>\n",
       "      <td>3561</td>\n",
       "      <td>python-requests/2.21.0</td>\n",
       "      <td>97.105.19.58</td>\n",
       "    </tr>\n",
       "  </tbody>\n",
       "</table>\n",
       "</div>"
      ],
      "text/plain": [
       "                                       original_logs method  \\\n",
       "0  GET /api/v1/sales?page=86 [16/Apr/2019:193452+...    GET   \n",
       "1  POST /users_accounts/file-upload [16/Apr/2019:...   POST   \n",
       "2  GET /api/v1/items?page=3 [16/Apr/2019:193453+0...    GET   \n",
       "\n",
       "                          path                timestamp http_version  \\\n",
       "0        /api/v1/sales?page=86  16/Apr/2019:193452+0000     HTTP/1.1   \n",
       "1  /users_accounts/file-upload  16/Apr/2019:193452+0000     HTTP/1.1   \n",
       "2         /api/v1/items?page=3  16/Apr/2019:193453+0000     HTTP/1.1   \n",
       "\n",
       "  status_code      size                                         user_agent  \\\n",
       "0         200   510348                              python-requests/2.21.0   \n",
       "1         201       42   User-Agent: Mozilla/5.0 (X11; Fedora; Fedora; ...   \n",
       "2         429     3561                              python-requests/2.21.0   \n",
       "\n",
       "     ip_address  \n",
       "0  97.105.19.58  \n",
       "1  97.105.19.58  \n",
       "2  97.105.19.58  "
      ]
     },
     "execution_count": 65,
     "metadata": {},
     "output_type": "execute_result"
    }
   ],
   "source": [
    "df"
   ]
  },
  {
   "cell_type": "markdown",
   "id": "b33b777a",
   "metadata": {
    "ExecuteTime": {
     "end_time": "2022-08-29T02:44:43.272220Z",
     "start_time": "2022-08-29T02:44:42.994605Z"
    }
   },
   "source": [
    "Bonus"
   ]
  },
  {
   "cell_type": "code",
   "execution_count": 17,
   "id": "f72b7564",
   "metadata": {
    "ExecuteTime": {
     "end_time": "2022-08-29T02:45:02.358805Z",
     "start_time": "2022-08-29T02:45:02.242762Z"
    }
   },
   "outputs": [],
   "source": [
    "words = pd.read_table('/usr/share/dict/words')\n",
    "words = words.rename(columns = {'A':'word'}).dropna()"
   ]
  },
  {
   "cell_type": "code",
   "execution_count": 18,
   "id": "0705f8b7",
   "metadata": {
    "ExecuteTime": {
     "end_time": "2022-08-29T02:45:05.754263Z",
     "start_time": "2022-08-29T02:45:05.744266Z"
    }
   },
   "outputs": [
    {
     "data": {
      "text/html": [
       "<div>\n",
       "<style scoped>\n",
       "    .dataframe tbody tr th:only-of-type {\n",
       "        vertical-align: middle;\n",
       "    }\n",
       "\n",
       "    .dataframe tbody tr th {\n",
       "        vertical-align: top;\n",
       "    }\n",
       "\n",
       "    .dataframe thead th {\n",
       "        text-align: right;\n",
       "    }\n",
       "</style>\n",
       "<table border=\"1\" class=\"dataframe\">\n",
       "  <thead>\n",
       "    <tr style=\"text-align: right;\">\n",
       "      <th></th>\n",
       "      <th>word</th>\n",
       "    </tr>\n",
       "  </thead>\n",
       "  <tbody>\n",
       "    <tr>\n",
       "      <th>0</th>\n",
       "      <td>a</td>\n",
       "    </tr>\n",
       "    <tr>\n",
       "      <th>1</th>\n",
       "      <td>aa</td>\n",
       "    </tr>\n",
       "    <tr>\n",
       "      <th>2</th>\n",
       "      <td>aal</td>\n",
       "    </tr>\n",
       "    <tr>\n",
       "      <th>3</th>\n",
       "      <td>aalii</td>\n",
       "    </tr>\n",
       "    <tr>\n",
       "      <th>4</th>\n",
       "      <td>aam</td>\n",
       "    </tr>\n",
       "    <tr>\n",
       "      <th>...</th>\n",
       "      <td>...</td>\n",
       "    </tr>\n",
       "    <tr>\n",
       "      <th>235880</th>\n",
       "      <td>zythem</td>\n",
       "    </tr>\n",
       "    <tr>\n",
       "      <th>235881</th>\n",
       "      <td>Zythia</td>\n",
       "    </tr>\n",
       "    <tr>\n",
       "      <th>235882</th>\n",
       "      <td>zythum</td>\n",
       "    </tr>\n",
       "    <tr>\n",
       "      <th>235883</th>\n",
       "      <td>Zyzomys</td>\n",
       "    </tr>\n",
       "    <tr>\n",
       "      <th>235884</th>\n",
       "      <td>Zyzzogeton</td>\n",
       "    </tr>\n",
       "  </tbody>\n",
       "</table>\n",
       "<p>235883 rows × 1 columns</p>\n",
       "</div>"
      ],
      "text/plain": [
       "              word\n",
       "0                a\n",
       "1               aa\n",
       "2              aal\n",
       "3            aalii\n",
       "4              aam\n",
       "...            ...\n",
       "235880      zythem\n",
       "235881      Zythia\n",
       "235882      zythum\n",
       "235883     Zyzomys\n",
       "235884  Zyzzogeton\n",
       "\n",
       "[235883 rows x 1 columns]"
      ]
     },
     "execution_count": 18,
     "metadata": {},
     "output_type": "execute_result"
    }
   ],
   "source": [
    "words"
   ]
  },
  {
   "cell_type": "code",
   "execution_count": 19,
   "id": "9451dc09",
   "metadata": {
    "ExecuteTime": {
     "end_time": "2022-08-29T02:45:46.008978Z",
     "start_time": "2022-08-29T02:45:46.003376Z"
    }
   },
   "outputs": [],
   "source": [
    "def count_vowels(x:str):\n",
    "    num_vowels = 0\n",
    "    for letter in str(x):\n",
    "        if re.search(r'[aeiouAEIOU]',letter):\n",
    "            num_vowels += 1\n",
    "        else:\n",
    "            continue\n",
    "    return num_vowels"
   ]
  },
  {
   "cell_type": "code",
   "execution_count": 20,
   "id": "c71b7c1c",
   "metadata": {
    "ExecuteTime": {
     "end_time": "2022-08-29T02:46:03.356864Z",
     "start_time": "2022-08-29T02:46:01.305438Z"
    }
   },
   "outputs": [],
   "source": [
    "words[\"num_vowels\"] = words.apply(lambda row: count_vowels(row.word), axis=1)"
   ]
  },
  {
   "cell_type": "code",
   "execution_count": 21,
   "id": "7bdc8bbc",
   "metadata": {
    "ExecuteTime": {
     "end_time": "2022-08-29T02:46:19.783844Z",
     "start_time": "2022-08-29T02:46:19.777355Z"
    }
   },
   "outputs": [
    {
     "data": {
      "text/plain": [
       "191365"
      ]
     },
     "execution_count": 21,
     "metadata": {},
     "output_type": "execute_result"
    }
   ],
   "source": [
    "# Words with at least 3 vowles\n",
    "(words.num_vowels>=3).sum()"
   ]
  },
  {
   "cell_type": "code",
   "execution_count": 22,
   "id": "0fc013e9",
   "metadata": {
    "ExecuteTime": {
     "end_time": "2022-08-29T02:46:28.261483Z",
     "start_time": "2022-08-29T02:46:28.258314Z"
    }
   },
   "outputs": [],
   "source": [
    "def count_consec_vowels(x:str):\n",
    "    if re.search(r'[aeiouAEIOU]{3,}',x):\n",
    "        return True\n",
    "    else:\n",
    "        return False"
   ]
  },
  {
   "cell_type": "code",
   "execution_count": 23,
   "id": "2615dc78",
   "metadata": {
    "ExecuteTime": {
     "end_time": "2022-08-29T02:46:39.993944Z",
     "start_time": "2022-08-29T02:46:38.662137Z"
    }
   },
   "outputs": [],
   "source": [
    "words[\"consec_vowels_3\"] = words.apply(lambda row: count_consec_vowels(row.word), axis=1)"
   ]
  },
  {
   "cell_type": "code",
   "execution_count": 24,
   "id": "4aaf7e6d",
   "metadata": {
    "ExecuteTime": {
     "end_time": "2022-08-29T02:46:49.238337Z",
     "start_time": "2022-08-29T02:46:49.233720Z"
    }
   },
   "outputs": [
    {
     "name": "stdout",
     "output_type": "stream",
     "text": [
      "6182 words with at least 3 vowels in a row\n"
     ]
    }
   ],
   "source": [
    "print(f\"{words.consec_vowels_3.sum()} words with at least 3 vowels in a row\")\n"
   ]
  },
  {
   "cell_type": "code",
   "execution_count": 25,
   "id": "39d174b2",
   "metadata": {
    "ExecuteTime": {
     "end_time": "2022-08-29T02:46:58.285178Z",
     "start_time": "2022-08-29T02:46:58.189165Z"
    }
   },
   "outputs": [],
   "source": [
    "words[\"consec_cons_4\"] = words.word.str.contains(r'[^aeiouAEIOU]{4,}')"
   ]
  },
  {
   "cell_type": "code",
   "execution_count": 26,
   "id": "f176eac2",
   "metadata": {
    "ExecuteTime": {
     "end_time": "2022-08-29T02:47:04.668278Z",
     "start_time": "2022-08-29T02:47:04.661731Z"
    }
   },
   "outputs": [
    {
     "name": "stdout",
     "output_type": "stream",
     "text": [
      "19241 words contain at least 4 consonants in a row\n"
     ]
    }
   ],
   "source": [
    "print(f\"{words.consec_cons_4.sum()} words contain at least 4 consonants in a row\")"
   ]
  },
  {
   "cell_type": "code",
   "execution_count": 27,
   "id": "21d07517",
   "metadata": {
    "ExecuteTime": {
     "end_time": "2022-08-29T02:47:13.288920Z",
     "start_time": "2022-08-29T02:47:13.284991Z"
    }
   },
   "outputs": [
    {
     "data": {
      "text/plain": [
       "'a'"
      ]
     },
     "execution_count": 27,
     "metadata": {},
     "output_type": "execute_result"
    }
   ],
   "source": [
    "'a'[-1]"
   ]
  },
  {
   "cell_type": "code",
   "execution_count": 28,
   "id": "b838f779",
   "metadata": {
    "ExecuteTime": {
     "end_time": "2022-08-29T02:47:21.392840Z",
     "start_time": "2022-08-29T02:47:21.350080Z"
    }
   },
   "outputs": [
    {
     "name": "stdout",
     "output_type": "stream",
     "text": [
      "9967 words start and end with the same letter\n"
     ]
    }
   ],
   "source": [
    "words[\"start_end_same\"] = words.word.apply(lambda row: row[0]==row[-1])\n",
    "\n",
    "print(f\"{words.start_end_same.sum()} words start and end with the same letter\")"
   ]
  },
  {
   "cell_type": "code",
   "execution_count": 29,
   "id": "aa2ff511",
   "metadata": {
    "ExecuteTime": {
     "end_time": "2022-08-29T02:47:27.560520Z",
     "start_time": "2022-08-29T02:47:27.556191Z"
    }
   },
   "outputs": [],
   "source": [
    "def start_and_ends_with_vowel(x:str):\n",
    "    if is_vowel(x[0]):\n",
    "        if is_vowel(x[-1]):\n",
    "            return True\n",
    "        else:\n",
    "            return False\n",
    "    else:\n",
    "        return False"
   ]
  },
  {
   "cell_type": "code",
   "execution_count": 30,
   "id": "d86f9a52",
   "metadata": {
    "ExecuteTime": {
     "end_time": "2022-08-29T02:47:34.104306Z",
     "start_time": "2022-08-29T02:47:33.939622Z"
    }
   },
   "outputs": [
    {
     "name": "stdout",
     "output_type": "stream",
     "text": [
      "14666 words start and end with a vowel\n"
     ]
    }
   ],
   "source": [
    "words[\"start_end_vowel\"] = words.word.apply(lambda row: start_and_ends_with_vowel(row))\n",
    "\n",
    "print(f\"{words.start_end_vowel.sum()} words start and end with a vowel\")"
   ]
  },
  {
   "cell_type": "code",
   "execution_count": null,
   "id": "93555301",
   "metadata": {},
   "outputs": [],
   "source": []
  }
 ],
 "metadata": {
  "kernelspec": {
   "display_name": "Python 3 (ipykernel)",
   "language": "python",
   "name": "python3"
  },
  "language_info": {
   "codemirror_mode": {
    "name": "ipython",
    "version": 3
   },
   "file_extension": ".py",
   "mimetype": "text/x-python",
   "name": "python",
   "nbconvert_exporter": "python",
   "pygments_lexer": "ipython3",
   "version": "3.9.13"
  }
 },
 "nbformat": 4,
 "nbformat_minor": 5
}
